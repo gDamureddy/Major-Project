{
 "cells": [
  {
   "cell_type": "markdown",
   "id": "a1fcd301",
   "metadata": {},
   "source": [
    "  # Phishing URL Detection using Machine Learning Techniques"
   ]
  },
  {
   "cell_type": "markdown",
   "id": "91604fd3",
   "metadata": {},
   "source": [
    "## 1.Collecting Data"
   ]
  },
  {
   "cell_type": "code",
   "execution_count": 1,
   "id": "2374660e",
   "metadata": {},
   "outputs": [],
   "source": [
    "import numpy as np\n",
    "import pandas as pd\n",
    "import matplotlib.pyplot as plt\n",
    "import seaborn as sns\n",
    "\n",
    "%matplotlib inline\n",
    "sns.set()\n",
    "\n",
    "import warnings\n",
    "warnings.simplefilter(\"ignore\")"
   ]
  },
  {
   "cell_type": "code",
   "execution_count": 2,
   "id": "2e95b0b0",
   "metadata": {
    "scrolled": false
   },
   "outputs": [],
   "source": [
    "data=pd.read_csv(r\"C:\\Users\\91950\\major project\\preprocessed_dataset\\preprocessed_data.csv\")"
   ]
  },
  {
   "cell_type": "code",
   "execution_count": 3,
   "id": "0fd4d5ad",
   "metadata": {},
   "outputs": [
    {
     "data": {
      "text/html": [
       "<div>\n",
       "<style scoped>\n",
       "    .dataframe tbody tr th:only-of-type {\n",
       "        vertical-align: middle;\n",
       "    }\n",
       "\n",
       "    .dataframe tbody tr th {\n",
       "        vertical-align: top;\n",
       "    }\n",
       "\n",
       "    .dataframe thead th {\n",
       "        text-align: right;\n",
       "    }\n",
       "</style>\n",
       "<table border=\"1\" class=\"dataframe\">\n",
       "  <thead>\n",
       "    <tr style=\"text-align: right;\">\n",
       "      <th></th>\n",
       "      <th>URL</th>\n",
       "      <th>Label</th>\n",
       "    </tr>\n",
       "  </thead>\n",
       "  <tbody>\n",
       "    <tr>\n",
       "      <th>0</th>\n",
       "      <td>workingwithwalter.com/wp-admin/images/screensh...</td>\n",
       "      <td>bad</td>\n",
       "    </tr>\n",
       "    <tr>\n",
       "      <th>1</th>\n",
       "      <td>checkyourelectricitybill.co.za/BOA/home/confir...</td>\n",
       "      <td>bad</td>\n",
       "    </tr>\n",
       "    <tr>\n",
       "      <th>2</th>\n",
       "      <td>allendesign.com.au/wp-admin/css/colors/sunrise...</td>\n",
       "      <td>bad</td>\n",
       "    </tr>\n",
       "    <tr>\n",
       "      <th>3</th>\n",
       "      <td>3dhabbonovo.rel7.com/</td>\n",
       "      <td>bad</td>\n",
       "    </tr>\n",
       "    <tr>\n",
       "      <th>4</th>\n",
       "      <td>groupetogi.com/css/gerbera/?allegro.pl/czarne-...</td>\n",
       "      <td>bad</td>\n",
       "    </tr>\n",
       "  </tbody>\n",
       "</table>\n",
       "</div>"
      ],
      "text/plain": [
       "                                                 URL Label\n",
       "0  workingwithwalter.com/wp-admin/images/screensh...   bad\n",
       "1  checkyourelectricitybill.co.za/BOA/home/confir...   bad\n",
       "2  allendesign.com.au/wp-admin/css/colors/sunrise...   bad\n",
       "3                              3dhabbonovo.rel7.com/   bad\n",
       "4  groupetogi.com/css/gerbera/?allegro.pl/czarne-...   bad"
      ]
     },
     "execution_count": 3,
     "metadata": {},
     "output_type": "execute_result"
    }
   ],
   "source": [
    "data.head(5)"
   ]
  },
  {
   "cell_type": "code",
   "execution_count": 4,
   "id": "8a0faf58",
   "metadata": {},
   "outputs": [],
   "source": [
    "import nltk\n",
    "import re\n",
    "\n",
    "from nltk.tokenize import RegexpTokenizer"
   ]
  },
  {
   "cell_type": "code",
   "execution_count": 5,
   "id": "01cf04d6",
   "metadata": {},
   "outputs": [],
   "source": [
    "tokenizer = RegexpTokenizer(r'[A-Za-z]+')"
   ]
  },
  {
   "cell_type": "code",
   "execution_count": 6,
   "id": "3f1a08ae",
   "metadata": {},
   "outputs": [
    {
     "data": {
      "text/plain": [
       "'groupetogi.com/css/gerbera/?allegro.pl/czarne-audi-a4-avant-1-9-tdi-116ps-alu16-climatron.html'"
      ]
     },
     "execution_count": 6,
     "metadata": {},
     "output_type": "execute_result"
    }
   ],
   "source": [
    "data.URL[4]"
   ]
  },
  {
   "cell_type": "code",
   "execution_count": 7,
   "id": "51eab384",
   "metadata": {
    "scrolled": false
   },
   "outputs": [
    {
     "data": {
      "text/plain": [
       "['groupetogi',\n",
       " 'com',\n",
       " 'css',\n",
       " 'gerbera',\n",
       " 'allegro',\n",
       " 'pl',\n",
       " 'czarne',\n",
       " 'audi',\n",
       " 'a',\n",
       " 'avant',\n",
       " 'tdi',\n",
       " 'ps',\n",
       " 'alu',\n",
       " 'climatron',\n",
       " 'html']"
      ]
     },
     "execution_count": 7,
     "metadata": {},
     "output_type": "execute_result"
    }
   ],
   "source": [
    "tokenizer.tokenize(data.URL[4]) # using the fourth row.."
   ]
  },
  {
   "cell_type": "code",
   "execution_count": 8,
   "id": "d93e283f",
   "metadata": {},
   "outputs": [],
   "source": [
    "data['text_tokenized'] = data.URL.map(lambda t: tokenizer.tokenize(t))"
   ]
  },
  {
   "cell_type": "code",
   "execution_count": 9,
   "id": "54450002",
   "metadata": {},
   "outputs": [
    {
     "data": {
      "text/html": [
       "<div>\n",
       "<style scoped>\n",
       "    .dataframe tbody tr th:only-of-type {\n",
       "        vertical-align: middle;\n",
       "    }\n",
       "\n",
       "    .dataframe tbody tr th {\n",
       "        vertical-align: top;\n",
       "    }\n",
       "\n",
       "    .dataframe thead th {\n",
       "        text-align: right;\n",
       "    }\n",
       "</style>\n",
       "<table border=\"1\" class=\"dataframe\">\n",
       "  <thead>\n",
       "    <tr style=\"text-align: right;\">\n",
       "      <th></th>\n",
       "      <th>URL</th>\n",
       "      <th>Label</th>\n",
       "      <th>text_tokenized</th>\n",
       "    </tr>\n",
       "  </thead>\n",
       "  <tbody>\n",
       "    <tr>\n",
       "      <th>0</th>\n",
       "      <td>workingwithwalter.com/wp-admin/images/screensh...</td>\n",
       "      <td>bad</td>\n",
       "      <td>[workingwithwalter, com, wp, admin, images, sc...</td>\n",
       "    </tr>\n",
       "    <tr>\n",
       "      <th>1</th>\n",
       "      <td>checkyourelectricitybill.co.za/BOA/home/confir...</td>\n",
       "      <td>bad</td>\n",
       "      <td>[checkyourelectricitybill, co, za, BOA, home, ...</td>\n",
       "    </tr>\n",
       "    <tr>\n",
       "      <th>2</th>\n",
       "      <td>allendesign.com.au/wp-admin/css/colors/sunrise...</td>\n",
       "      <td>bad</td>\n",
       "      <td>[allendesign, com, au, wp, admin, css, colors,...</td>\n",
       "    </tr>\n",
       "    <tr>\n",
       "      <th>3</th>\n",
       "      <td>3dhabbonovo.rel7.com/</td>\n",
       "      <td>bad</td>\n",
       "      <td>[dhabbonovo, rel, com]</td>\n",
       "    </tr>\n",
       "    <tr>\n",
       "      <th>4</th>\n",
       "      <td>groupetogi.com/css/gerbera/?allegro.pl/czarne-...</td>\n",
       "      <td>bad</td>\n",
       "      <td>[groupetogi, com, css, gerbera, allegro, pl, c...</td>\n",
       "    </tr>\n",
       "    <tr>\n",
       "      <th>...</th>\n",
       "      <td>...</td>\n",
       "      <td>...</td>\n",
       "      <td>...</td>\n",
       "    </tr>\n",
       "    <tr>\n",
       "      <th>11995</th>\n",
       "      <td>sportslogos.net/team.php?id=2717</td>\n",
       "      <td>good</td>\n",
       "      <td>[sportslogos, net, team, php, id]</td>\n",
       "    </tr>\n",
       "    <tr>\n",
       "      <th>11996</th>\n",
       "      <td>quranteacherathome.com/laminar-debbe-dunning-p...</td>\n",
       "      <td>good</td>\n",
       "      <td>[quranteacherathome, com, laminar, debbe, dunn...</td>\n",
       "    </tr>\n",
       "    <tr>\n",
       "      <th>11997</th>\n",
       "      <td>entrepreneur.com/franchises/eastofchicagopizza...</td>\n",
       "      <td>good</td>\n",
       "      <td>[entrepreneur, com, franchises, eastofchicagop...</td>\n",
       "    </tr>\n",
       "    <tr>\n",
       "      <th>11998</th>\n",
       "      <td>christopherwesthoff.com/projects/pm_project/in...</td>\n",
       "      <td>good</td>\n",
       "      <td>[christopherwesthoff, com, projects, pm, proje...</td>\n",
       "    </tr>\n",
       "    <tr>\n",
       "      <th>11999</th>\n",
       "      <td>en.wikipedia.org/wiki/Oakland_Zoo</td>\n",
       "      <td>good</td>\n",
       "      <td>[en, wikipedia, org, wiki, Oakland, Zoo]</td>\n",
       "    </tr>\n",
       "  </tbody>\n",
       "</table>\n",
       "<p>12000 rows × 3 columns</p>\n",
       "</div>"
      ],
      "text/plain": [
       "                                                     URL Label  \\\n",
       "0      workingwithwalter.com/wp-admin/images/screensh...   bad   \n",
       "1      checkyourelectricitybill.co.za/BOA/home/confir...   bad   \n",
       "2      allendesign.com.au/wp-admin/css/colors/sunrise...   bad   \n",
       "3                                  3dhabbonovo.rel7.com/   bad   \n",
       "4      groupetogi.com/css/gerbera/?allegro.pl/czarne-...   bad   \n",
       "...                                                  ...   ...   \n",
       "11995                   sportslogos.net/team.php?id=2717  good   \n",
       "11996  quranteacherathome.com/laminar-debbe-dunning-p...  good   \n",
       "11997  entrepreneur.com/franchises/eastofchicagopizza...  good   \n",
       "11998  christopherwesthoff.com/projects/pm_project/in...  good   \n",
       "11999                  en.wikipedia.org/wiki/Oakland_Zoo  good   \n",
       "\n",
       "                                          text_tokenized  \n",
       "0      [workingwithwalter, com, wp, admin, images, sc...  \n",
       "1      [checkyourelectricitybill, co, za, BOA, home, ...  \n",
       "2      [allendesign, com, au, wp, admin, css, colors,...  \n",
       "3                                 [dhabbonovo, rel, com]  \n",
       "4      [groupetogi, com, css, gerbera, allegro, pl, c...  \n",
       "...                                                  ...  \n",
       "11995                  [sportslogos, net, team, php, id]  \n",
       "11996  [quranteacherathome, com, laminar, debbe, dunn...  \n",
       "11997  [entrepreneur, com, franchises, eastofchicagop...  \n",
       "11998  [christopherwesthoff, com, projects, pm, proje...  \n",
       "11999           [en, wikipedia, org, wiki, Oakland, Zoo]  \n",
       "\n",
       "[12000 rows x 3 columns]"
      ]
     },
     "execution_count": 9,
     "metadata": {},
     "output_type": "execute_result"
    }
   ],
   "source": [
    "data"
   ]
  },
  {
   "cell_type": "code",
   "execution_count": 10,
   "id": "392f5f75",
   "metadata": {},
   "outputs": [],
   "source": [
    "# Stemming To find the rootwords:\n",
    "from nltk.stem.snowball import SnowballStemmer"
   ]
  },
  {
   "cell_type": "code",
   "execution_count": 11,
   "id": "6c327051",
   "metadata": {},
   "outputs": [],
   "source": [
    "stemmer = SnowballStemmer(\"english\")"
   ]
  },
  {
   "cell_type": "code",
   "execution_count": 12,
   "id": "1bf0891a",
   "metadata": {},
   "outputs": [],
   "source": [
    "data['text_stemmed'] = data['text_tokenized'].map(lambda l: [stemmer.stem(word) for word in l])"
   ]
  },
  {
   "cell_type": "code",
   "execution_count": 13,
   "id": "0d3a0ac7",
   "metadata": {},
   "outputs": [],
   "source": [
    "data['text_sent'] = data['text_stemmed'].map(lambda l: ' '.join(l))"
   ]
  },
  {
   "cell_type": "code",
   "execution_count": 14,
   "id": "ffec381c",
   "metadata": {},
   "outputs": [
    {
     "data": {
      "text/html": [
       "<div>\n",
       "<style scoped>\n",
       "    .dataframe tbody tr th:only-of-type {\n",
       "        vertical-align: middle;\n",
       "    }\n",
       "\n",
       "    .dataframe tbody tr th {\n",
       "        vertical-align: top;\n",
       "    }\n",
       "\n",
       "    .dataframe thead th {\n",
       "        text-align: right;\n",
       "    }\n",
       "</style>\n",
       "<table border=\"1\" class=\"dataframe\">\n",
       "  <thead>\n",
       "    <tr style=\"text-align: right;\">\n",
       "      <th></th>\n",
       "      <th>URL</th>\n",
       "      <th>Label</th>\n",
       "      <th>text_tokenized</th>\n",
       "      <th>text_stemmed</th>\n",
       "      <th>text_sent</th>\n",
       "    </tr>\n",
       "  </thead>\n",
       "  <tbody>\n",
       "    <tr>\n",
       "      <th>0</th>\n",
       "      <td>workingwithwalter.com/wp-admin/images/screensh...</td>\n",
       "      <td>bad</td>\n",
       "      <td>[workingwithwalter, com, wp, admin, images, sc...</td>\n",
       "      <td>[workingwithwalt, com, wp, admin, imag, screen...</td>\n",
       "      <td>workingwithwalt com wp admin imag screenshot p...</td>\n",
       "    </tr>\n",
       "    <tr>\n",
       "      <th>1</th>\n",
       "      <td>checkyourelectricitybill.co.za/BOA/home/confir...</td>\n",
       "      <td>bad</td>\n",
       "      <td>[checkyourelectricitybill, co, za, BOA, home, ...</td>\n",
       "      <td>[checkyourelectricitybil, co, za, boa, home, c...</td>\n",
       "      <td>checkyourelectricitybil co za boa home confirm...</td>\n",
       "    </tr>\n",
       "    <tr>\n",
       "      <th>2</th>\n",
       "      <td>allendesign.com.au/wp-admin/css/colors/sunrise...</td>\n",
       "      <td>bad</td>\n",
       "      <td>[allendesign, com, au, wp, admin, css, colors,...</td>\n",
       "      <td>[allendesign, com, au, wp, admin, css, color, ...</td>\n",
       "      <td>allendesign com au wp admin css color sunris n...</td>\n",
       "    </tr>\n",
       "    <tr>\n",
       "      <th>3</th>\n",
       "      <td>3dhabbonovo.rel7.com/</td>\n",
       "      <td>bad</td>\n",
       "      <td>[dhabbonovo, rel, com]</td>\n",
       "      <td>[dhabbonovo, rel, com]</td>\n",
       "      <td>dhabbonovo rel com</td>\n",
       "    </tr>\n",
       "    <tr>\n",
       "      <th>4</th>\n",
       "      <td>groupetogi.com/css/gerbera/?allegro.pl/czarne-...</td>\n",
       "      <td>bad</td>\n",
       "      <td>[groupetogi, com, css, gerbera, allegro, pl, c...</td>\n",
       "      <td>[groupetogi, com, css, gerbera, allegro, pl, c...</td>\n",
       "      <td>groupetogi com css gerbera allegro pl czarn au...</td>\n",
       "    </tr>\n",
       "    <tr>\n",
       "      <th>...</th>\n",
       "      <td>...</td>\n",
       "      <td>...</td>\n",
       "      <td>...</td>\n",
       "      <td>...</td>\n",
       "      <td>...</td>\n",
       "    </tr>\n",
       "    <tr>\n",
       "      <th>11995</th>\n",
       "      <td>sportslogos.net/team.php?id=2717</td>\n",
       "      <td>good</td>\n",
       "      <td>[sportslogos, net, team, php, id]</td>\n",
       "      <td>[sportslogo, net, team, php, id]</td>\n",
       "      <td>sportslogo net team php id</td>\n",
       "    </tr>\n",
       "    <tr>\n",
       "      <th>11996</th>\n",
       "      <td>quranteacherathome.com/laminar-debbe-dunning-p...</td>\n",
       "      <td>good</td>\n",
       "      <td>[quranteacherathome, com, laminar, debbe, dunn...</td>\n",
       "      <td>[quranteacherathom, com, laminar, debb, dun, p...</td>\n",
       "      <td>quranteacherathom com laminar debb dun photo</td>\n",
       "    </tr>\n",
       "    <tr>\n",
       "      <th>11997</th>\n",
       "      <td>entrepreneur.com/franchises/eastofchicagopizza...</td>\n",
       "      <td>good</td>\n",
       "      <td>[entrepreneur, com, franchises, eastofchicagop...</td>\n",
       "      <td>[entrepreneur, com, franchis, eastofchicagopiz...</td>\n",
       "      <td>entrepreneur com franchis eastofchicagopizzaco...</td>\n",
       "    </tr>\n",
       "    <tr>\n",
       "      <th>11998</th>\n",
       "      <td>christopherwesthoff.com/projects/pm_project/in...</td>\n",
       "      <td>good</td>\n",
       "      <td>[christopherwesthoff, com, projects, pm, proje...</td>\n",
       "      <td>[christopherwesthoff, com, project, pm, projec...</td>\n",
       "      <td>christopherwesthoff com project pm project ind...</td>\n",
       "    </tr>\n",
       "    <tr>\n",
       "      <th>11999</th>\n",
       "      <td>en.wikipedia.org/wiki/Oakland_Zoo</td>\n",
       "      <td>good</td>\n",
       "      <td>[en, wikipedia, org, wiki, Oakland, Zoo]</td>\n",
       "      <td>[en, wikipedia, org, wiki, oakland, zoo]</td>\n",
       "      <td>en wikipedia org wiki oakland zoo</td>\n",
       "    </tr>\n",
       "  </tbody>\n",
       "</table>\n",
       "<p>12000 rows × 5 columns</p>\n",
       "</div>"
      ],
      "text/plain": [
       "                                                     URL Label  \\\n",
       "0      workingwithwalter.com/wp-admin/images/screensh...   bad   \n",
       "1      checkyourelectricitybill.co.za/BOA/home/confir...   bad   \n",
       "2      allendesign.com.au/wp-admin/css/colors/sunrise...   bad   \n",
       "3                                  3dhabbonovo.rel7.com/   bad   \n",
       "4      groupetogi.com/css/gerbera/?allegro.pl/czarne-...   bad   \n",
       "...                                                  ...   ...   \n",
       "11995                   sportslogos.net/team.php?id=2717  good   \n",
       "11996  quranteacherathome.com/laminar-debbe-dunning-p...  good   \n",
       "11997  entrepreneur.com/franchises/eastofchicagopizza...  good   \n",
       "11998  christopherwesthoff.com/projects/pm_project/in...  good   \n",
       "11999                  en.wikipedia.org/wiki/Oakland_Zoo  good   \n",
       "\n",
       "                                          text_tokenized  \\\n",
       "0      [workingwithwalter, com, wp, admin, images, sc...   \n",
       "1      [checkyourelectricitybill, co, za, BOA, home, ...   \n",
       "2      [allendesign, com, au, wp, admin, css, colors,...   \n",
       "3                                 [dhabbonovo, rel, com]   \n",
       "4      [groupetogi, com, css, gerbera, allegro, pl, c...   \n",
       "...                                                  ...   \n",
       "11995                  [sportslogos, net, team, php, id]   \n",
       "11996  [quranteacherathome, com, laminar, debbe, dunn...   \n",
       "11997  [entrepreneur, com, franchises, eastofchicagop...   \n",
       "11998  [christopherwesthoff, com, projects, pm, proje...   \n",
       "11999           [en, wikipedia, org, wiki, Oakland, Zoo]   \n",
       "\n",
       "                                            text_stemmed  \\\n",
       "0      [workingwithwalt, com, wp, admin, imag, screen...   \n",
       "1      [checkyourelectricitybil, co, za, boa, home, c...   \n",
       "2      [allendesign, com, au, wp, admin, css, color, ...   \n",
       "3                                 [dhabbonovo, rel, com]   \n",
       "4      [groupetogi, com, css, gerbera, allegro, pl, c...   \n",
       "...                                                  ...   \n",
       "11995                   [sportslogo, net, team, php, id]   \n",
       "11996  [quranteacherathom, com, laminar, debb, dun, p...   \n",
       "11997  [entrepreneur, com, franchis, eastofchicagopiz...   \n",
       "11998  [christopherwesthoff, com, project, pm, projec...   \n",
       "11999           [en, wikipedia, org, wiki, oakland, zoo]   \n",
       "\n",
       "                                               text_sent  \n",
       "0      workingwithwalt com wp admin imag screenshot p...  \n",
       "1      checkyourelectricitybil co za boa home confirm...  \n",
       "2      allendesign com au wp admin css color sunris n...  \n",
       "3                                     dhabbonovo rel com  \n",
       "4      groupetogi com css gerbera allegro pl czarn au...  \n",
       "...                                                  ...  \n",
       "11995                         sportslogo net team php id  \n",
       "11996       quranteacherathom com laminar debb dun photo  \n",
       "11997  entrepreneur com franchis eastofchicagopizzaco...  \n",
       "11998  christopherwesthoff com project pm project ind...  \n",
       "11999                  en wikipedia org wiki oakland zoo  \n",
       "\n",
       "[12000 rows x 5 columns]"
      ]
     },
     "execution_count": 14,
     "metadata": {},
     "output_type": "execute_result"
    }
   ],
   "source": [
    "data"
   ]
  },
  {
   "cell_type": "code",
   "execution_count": 15,
   "id": "973947b3",
   "metadata": {},
   "outputs": [
    {
     "data": {
      "text/plain": [
       "(12000, 5)"
      ]
     },
     "execution_count": 15,
     "metadata": {},
     "output_type": "execute_result"
    }
   ],
   "source": [
    "data.shape"
   ]
  },
  {
   "cell_type": "code",
   "execution_count": 16,
   "id": "e0421aa0",
   "metadata": {},
   "outputs": [
    {
     "data": {
      "image/png": "[encoded data removed]",
      "text/plain": [
       "<Figure size 432x288 with 1 Axes>"
      ]
     },
     "metadata": {},
     "output_type": "display_data"
    }
   ],
   "source": [
    "data['Label'].value_counts().plot(kind='pie',autopct='%1.2f%%')\n",
    "plt.title(\"Phishing Count\")\n",
    "plt.show()"
   ]
  },
  {
   "cell_type": "markdown",
   "id": "906eeaec",
   "metadata": {},
   "source": [
    "## 2.Feature Extraction"
   ]
  },
  {
   "cell_type": "code",
   "execution_count": 17,
   "id": "fe6c2bb6",
   "metadata": {},
   "outputs": [],
   "source": [
    "from sklearn.feature_extraction.text import CountVectorizer"
   ]
  },
  {
   "cell_type": "code",
   "execution_count": 18,
   "id": "1a5f7431",
   "metadata": {},
   "outputs": [],
   "source": [
    "cv = CountVectorizer()"
   ]
  },
  {
   "cell_type": "code",
   "execution_count": 19,
   "id": "6246aa13",
   "metadata": {
    "colab": {
     "base_uri": "https://localhost:8080/",
     "height": 206
    },
    "executionInfo": {
     "elapsed": 10,
     "status": "ok",
     "timestamp": 1642498889604,
     "user": {
      "displayName": "Pravallika K",
      "photoUrl": "https://lh3.googleusercontent.com/a/default-user=s64",
      "userId": "10769859150609147264"
     },
     "user_tz": -330
    },
    "id": "FB-KAMM0SiyP",
    "outputId": "8d253a12-3538-47e1-a2d9-385ac59c09d9"
   },
   "outputs": [
    {
     "data": {
      "text/plain": [
       "'\\n# shuffling the rows in the dataset so that when splitting the train and test set are equally distributed\\ndata = data.sample(frac=1).reset_index(drop=True)\\ndata.head()\\n'"
      ]
     },
     "execution_count": 19,
     "metadata": {},
     "output_type": "execute_result"
    }
   ],
   "source": [
    "\"\"\"\n",
    "# shuffling the rows in the dataset so that when splitting the train and test set are equally distributed\n",
    "data = data.sample(frac=1).reset_index(drop=True)\n",
    "data.head()\n",
    "\"\"\""
   ]
  },
  {
   "cell_type": "code",
   "execution_count": 20,
   "id": "ee0b2750",
   "metadata": {},
   "outputs": [],
   "source": [
    "feature = cv.fit_transform(data.text_sent)"
   ]
  },
  {
   "cell_type": "code",
   "execution_count": 21,
   "id": "2fea95a7",
   "metadata": {},
   "outputs": [
    {
     "data": {
      "text/plain": [
       "<12000x25249 sparse matrix of type '<class 'numpy.int64'>'\n",
       "\twith 98422 stored elements in Compressed Sparse Row format>"
      ]
     },
     "execution_count": 21,
     "metadata": {},
     "output_type": "execute_result"
    }
   ],
   "source": [
    "feature"
   ]
  },
  {
   "cell_type": "code",
   "execution_count": 22,
   "id": "810b06a8",
   "metadata": {},
   "outputs": [],
   "source": [
    "feature = feature[:].toarray()"
   ]
  },
  {
   "cell_type": "code",
   "execution_count": 23,
   "id": "01def540",
   "metadata": {},
   "outputs": [
    {
     "data": {
      "text/plain": [
       "array([[0, 0, 0, ..., 0, 0, 0],\n",
       "       [0, 0, 0, ..., 0, 0, 0],\n",
       "       [0, 0, 0, ..., 0, 0, 0],\n",
       "       ...,\n",
       "       [0, 0, 0, ..., 0, 0, 0],\n",
       "       [0, 0, 0, ..., 0, 0, 0],\n",
       "       [0, 0, 0, ..., 0, 0, 0]], dtype=int64)"
      ]
     },
     "execution_count": 23,
     "metadata": {},
     "output_type": "execute_result"
    }
   ],
   "source": [
    "feature"
   ]
  },
  {
   "cell_type": "code",
   "execution_count": 24,
   "id": "b712c0c8",
   "metadata": {},
   "outputs": [],
   "source": [
    "#df=pd.DataFrame(data=feature,columns=cv.get_feature_names())"
   ]
  },
  {
   "cell_type": "code",
   "execution_count": 25,
   "id": "f2d4b32c",
   "metadata": {},
   "outputs": [],
   "source": [
    "#df"
   ]
  },
  {
   "cell_type": "code",
   "execution_count": 26,
   "id": "ce340151",
   "metadata": {},
   "outputs": [
    {
     "data": {
      "text/plain": [
       "(12000, 25249)"
      ]
     },
     "execution_count": 26,
     "metadata": {},
     "output_type": "execute_result"
    }
   ],
   "source": [
    "from sklearn.feature_extraction.text import TfidfVectorizer\n",
    "\n",
    "vectorizer = TfidfVectorizer()\n",
    "vectors = vectorizer.fit_transform(data.text_sent)\n",
    "vectors.shape"
   ]
  },
  {
   "cell_type": "code",
   "execution_count": 27,
   "id": "def29179",
   "metadata": {},
   "outputs": [],
   "source": [
    "vectors = vectors[:].toarray()"
   ]
  },
  {
   "cell_type": "code",
   "execution_count": 28,
   "id": "e7eede21",
   "metadata": {},
   "outputs": [
    {
     "data": {
      "text/plain": [
       "array([[0., 0., 0., ..., 0., 0., 0.],\n",
       "       [0., 0., 0., ..., 0., 0., 0.],\n",
       "       [0., 0., 0., ..., 0., 0., 0.],\n",
       "       ...,\n",
       "       [0., 0., 0., ..., 0., 0., 0.],\n",
       "       [0., 0., 0., ..., 0., 0., 0.],\n",
       "       [0., 0., 0., ..., 0., 0., 0.]])"
      ]
     },
     "execution_count": 28,
     "metadata": {},
     "output_type": "execute_result"
    }
   ],
   "source": [
    "vectors"
   ]
  },
  {
   "cell_type": "code",
   "execution_count": 29,
   "id": "e36b4253",
   "metadata": {},
   "outputs": [],
   "source": [
    "data[\"Label\"] = data[\"Label\"].map({\"bad\":1,\"good\":0})"
   ]
  },
  {
   "cell_type": "code",
   "execution_count": 30,
   "id": "2313bb85",
   "metadata": {},
   "outputs": [
    {
     "data": {
      "text/plain": [
       "['aa',\n",
       " 'aaa',\n",
       " 'aaaaa',\n",
       " 'aaae',\n",
       " 'aaanimalcontrol',\n",
       " 'aab',\n",
       " 'aabad',\n",
       " 'aabg',\n",
       " 'aac',\n",
       " 'aacb',\n",
       " 'aacilusbrasil',\n",
       " 'aad',\n",
       " 'aaddcb',\n",
       " 'aadob',\n",
       " 'aadqpgah',\n",
       " 'aae',\n",
       " 'aaef',\n",
       " 'aaexpert',\n",
       " 'aaf',\n",
       " 'aafab',\n",
       " 'aaff',\n",
       " 'aag',\n",
       " 'aagjqkughhl',\n",
       " 'aago',\n",
       " 'aagp',\n",
       " 'aah',\n",
       " 'aahpuc',\n",
       " 'aainecg',\n",
       " 'aainvestig',\n",
       " 'aaius',\n",
       " 'aaizhfw',\n",
       " 'aal',\n",
       " 'aaldo',\n",
       " 'aalryz',\n",
       " 'aalyfrj',\n",
       " 'aam',\n",
       " 'aamcmxg',\n",
       " 'aameh',\n",
       " 'aan',\n",
       " 'aandgtrad',\n",
       " 'aaocwrl',\n",
       " 'aap',\n",
       " 'aapf',\n",
       " 'aar',\n",
       " 'aardvark',\n",
       " 'aaron',\n",
       " 'aaronacom',\n",
       " 'aarondf',\n",
       " 'aaronmaxdesign',\n",
       " 'aasssgh',\n",
       " 'aav',\n",
       " 'aaw',\n",
       " 'aawd',\n",
       " 'aawow',\n",
       " 'aawwoev',\n",
       " 'aawz',\n",
       " 'aazv',\n",
       " 'ab',\n",
       " 'aba',\n",
       " 'abaf',\n",
       " 'abb',\n",
       " 'abba',\n",
       " 'abbey',\n",
       " 'abbott',\n",
       " 'abc',\n",
       " 'abccbraganca',\n",
       " 'abcd',\n",
       " 'abceb',\n",
       " 'abcf',\n",
       " 'abcnew',\n",
       " 'abcsahara',\n",
       " 'abd',\n",
       " 'abdc',\n",
       " 'abdox',\n",
       " 'abdulnajib',\n",
       " 'abe',\n",
       " 'abebrifrrkh',\n",
       " 'abeobatkuat',\n",
       " 'abf',\n",
       " 'abfbfdeb',\n",
       " 'abfd',\n",
       " 'abh',\n",
       " 'abhinesh',\n",
       " 'abhishek',\n",
       " 'abiblevers',\n",
       " 'abid',\n",
       " 'abil',\n",
       " 'abitibi',\n",
       " 'abkj',\n",
       " 'abkqa',\n",
       " 'abl',\n",
       " 'abmp',\n",
       " 'abn',\n",
       " 'abnamro',\n",
       " 'abnet',\n",
       " 'abonn',\n",
       " 'abotl',\n",
       " 'about',\n",
       " 'aboutabacus',\n",
       " 'aboutfilm',\n",
       " 'aboutnvc',\n",
       " 'aboutus',\n",
       " 'abov',\n",
       " 'abpprint',\n",
       " 'abr',\n",
       " 'abram',\n",
       " 'abri',\n",
       " 'abrv',\n",
       " 'absa',\n",
       " 'abscess',\n",
       " 'absenc',\n",
       " 'absent',\n",
       " 'absoluteastronomi',\n",
       " 'absolutenow',\n",
       " 'absolutepunk',\n",
       " 'absolutewrit',\n",
       " 'abstract',\n",
       " 'abuohand',\n",
       " 'aburt',\n",
       " 'abus',\n",
       " 'abyrhb',\n",
       " 'ac',\n",
       " 'aca',\n",
       " 'academ',\n",
       " 'academi',\n",
       " 'academia',\n",
       " 'academiadedoblaj',\n",
       " 'academickid',\n",
       " 'academico',\n",
       " 'acadian',\n",
       " 'acadiansingray',\n",
       " 'acao',\n",
       " 'acasti',\n",
       " 'acb',\n",
       " 'acbbd',\n",
       " 'acbro',\n",
       " 'acc',\n",
       " 'accbd',\n",
       " 'accca',\n",
       " 'accd',\n",
       " 'accedi',\n",
       " 'acceler',\n",
       " 'accept',\n",
       " 'acceso',\n",
       " 'access',\n",
       " 'accessagcta',\n",
       " 'accesshollywood',\n",
       " 'accessibiil',\n",
       " 'accessmail',\n",
       " 'accessmarketinginc',\n",
       " 'accessmylibrari',\n",
       " 'accesso',\n",
       " 'accessonlin',\n",
       " 'accessori',\n",
       " 'accessuswebscrcmd',\n",
       " 'accessvalid',\n",
       " 'acceuil',\n",
       " 'accid',\n",
       " 'accidentesylabor',\n",
       " 'accommod',\n",
       " 'accont',\n",
       " 'accordeur',\n",
       " 'accounstnoreplylink',\n",
       " 'account',\n",
       " 'accountcleanup',\n",
       " 'accountinform',\n",
       " 'accountloginwebruncgibin',\n",
       " 'accountnam',\n",
       " 'accountonlien',\n",
       " 'accountonlin',\n",
       " 'accountonlinesecur',\n",
       " 'accountservic',\n",
       " 'accountsess',\n",
       " 'accountupd',\n",
       " 'accountverif',\n",
       " 'accpint',\n",
       " 'acct',\n",
       " 'acction',\n",
       " 'accueil',\n",
       " 'accyc',\n",
       " 'acd',\n",
       " 'acdc',\n",
       " 'ace',\n",
       " 'aceesss',\n",
       " 'acemenu',\n",
       " 'acepol',\n",
       " 'acertenem',\n",
       " 'acertui',\n",
       " 'aceshowbiz',\n",
       " 'acess',\n",
       " 'acessando',\n",
       " 'acesso',\n",
       " 'aceto',\n",
       " 'acez',\n",
       " 'acf',\n",
       " 'acfbc',\n",
       " 'acffcad',\n",
       " 'ach',\n",
       " 'achcn',\n",
       " 'achealthcar',\n",
       " 'achill',\n",
       " 'achim',\n",
       " 'achruqvu',\n",
       " 'achtzig',\n",
       " 'acicebnsduautda',\n",
       " 'acid',\n",
       " 'acidem',\n",
       " 'acirc',\n",
       " 'aciwku',\n",
       " 'acknowledg',\n",
       " 'ackpri',\n",
       " 'acktiver',\n",
       " 'acl',\n",
       " 'aclpump',\n",
       " 'acm',\n",
       " 'acmedesignco',\n",
       " 'acmewebmast',\n",
       " 'acmpart',\n",
       " 'acn',\n",
       " 'acount',\n",
       " 'acouphenetrait',\n",
       " 'acpi',\n",
       " 'acquagroupt',\n",
       " 'acquir',\n",
       " 'acquisit',\n",
       " 'acquit',\n",
       " 'acrlj',\n",
       " 'acroni',\n",
       " 'acronym',\n",
       " 'acronymfind',\n",
       " 'acsjob',\n",
       " 'act',\n",
       " 'action',\n",
       " 'actioninterior',\n",
       " 'actionjaxon',\n",
       " 'actionswimmingpool',\n",
       " 'activ',\n",
       " 'activeimovei',\n",
       " 'activesportsunglass',\n",
       " 'activet',\n",
       " 'activeww',\n",
       " 'activist',\n",
       " 'activityyyy',\n",
       " 'actor',\n",
       " 'actorprofil',\n",
       " 'actress',\n",
       " 'actual',\n",
       " 'actualit',\n",
       " 'actualizacion',\n",
       " 'actuari',\n",
       " 'actuel',\n",
       " 'actulizacion',\n",
       " 'acut',\n",
       " 'acxdsh',\n",
       " 'ad',\n",
       " 'ada',\n",
       " 'adag',\n",
       " 'adahh',\n",
       " 'adair',\n",
       " 'adaltoeadalberto',\n",
       " 'adam',\n",
       " 'adamdenni',\n",
       " 'adamgabriel',\n",
       " 'adamv',\n",
       " 'adb',\n",
       " 'adbb',\n",
       " 'adbc',\n",
       " 'adbd',\n",
       " 'adc',\n",
       " 'adcd',\n",
       " 'add',\n",
       " 'addam',\n",
       " 'addax',\n",
       " 'addhoc',\n",
       " 'addict',\n",
       " 'addictivebeavertail',\n",
       " 'addiss',\n",
       " 'addon',\n",
       " 'addr',\n",
       " 'address',\n",
       " 'addthisplugin',\n",
       " 'ade',\n",
       " 'adeac',\n",
       " 'adecd',\n",
       " 'adelphia',\n",
       " 'adema',\n",
       " 'adeotsj',\n",
       " 'adesao',\n",
       " 'adesso',\n",
       " 'adewal',\n",
       " 'adextra',\n",
       " 'adf',\n",
       " 'adfad',\n",
       " 'adfggsh',\n",
       " 'adfil',\n",
       " 'adg',\n",
       " 'adgalleri',\n",
       " 'adh',\n",
       " 'adi',\n",
       " 'adia',\n",
       " 'adicoraswimwear',\n",
       " 'adid',\n",
       " 'adilsondocavacoaulasvianet',\n",
       " 'adit',\n",
       " 'aditbrasil',\n",
       " 'adm',\n",
       " 'admengag',\n",
       " 'admin',\n",
       " 'adminblock',\n",
       " 'adminhtml',\n",
       " 'administr',\n",
       " 'administramo',\n",
       " 'administrar',\n",
       " 'adminmailserv',\n",
       " 'adminnn',\n",
       " 'adminserv',\n",
       " 'adminshel',\n",
       " 'adminwork',\n",
       " 'admnapji',\n",
       " 'admzr',\n",
       " 'adn',\n",
       " 'adob',\n",
       " 'adobeconnect',\n",
       " 'adonaicapit',\n",
       " 'adoni',\n",
       " 'adpq',\n",
       " 'adqezmsn',\n",
       " 'adress',\n",
       " 'adrian',\n",
       " 'adrutilidc',\n",
       " 'adsasd',\n",
       " 'adsf',\n",
       " 'adthk',\n",
       " 'adult',\n",
       " 'adulti',\n",
       " 'adultswim',\n",
       " 'adv',\n",
       " 'advanc',\n",
       " 'advanceddata',\n",
       " 'advancedsystem',\n",
       " 'advecologica',\n",
       " 'adventur',\n",
       " 'advertis',\n",
       " 'advic',\n",
       " 'advisor',\n",
       " 'advisori',\n",
       " 'advoc',\n",
       " 'advocaci',\n",
       " 'advocacia',\n",
       " 'adwar',\n",
       " 'adygeya',\n",
       " 'adz',\n",
       " 'adzon',\n",
       " 'adzsqoeowysu',\n",
       " 'adzub',\n",
       " 'ae',\n",
       " 'aea',\n",
       " 'aeabf',\n",
       " 'aeac',\n",
       " 'aeae',\n",
       " 'aeaf',\n",
       " 'aeb',\n",
       " 'aec',\n",
       " 'aecb',\n",
       " 'aecfaa',\n",
       " 'aecolog',\n",
       " 'aecpow',\n",
       " 'aeda',\n",
       " 'aedith',\n",
       " 'aee',\n",
       " 'aef',\n",
       " 'aefa',\n",
       " 'aefbb',\n",
       " 'aefca',\n",
       " 'aefeffgfg',\n",
       " 'aek',\n",
       " 'aemuyu',\n",
       " 'aenviado',\n",
       " 'aep',\n",
       " 'aepc',\n",
       " 'aer',\n",
       " 'aerjkipo',\n",
       " 'aeroklub',\n",
       " 'aeronef',\n",
       " 'aerreravasi',\n",
       " 'aesf',\n",
       " 'aetwzqeun',\n",
       " 'af',\n",
       " 'afa',\n",
       " 'afad',\n",
       " 'afaec',\n",
       " 'afatrad',\n",
       " 'afb',\n",
       " 'afbd',\n",
       " 'afbdc',\n",
       " 'afc',\n",
       " 'afca',\n",
       " 'afd',\n",
       " 'afda',\n",
       " 'afdc',\n",
       " 'afdd',\n",
       " 'afdf',\n",
       " 'afdfb',\n",
       " 'afdfba',\n",
       " 'afdfbcmd',\n",
       " 'afe',\n",
       " 'afeb',\n",
       " 'afec',\n",
       " 'afecb',\n",
       " 'afecto',\n",
       " 'aff',\n",
       " 'affa',\n",
       " 'affair',\n",
       " 'affairesdesfax',\n",
       " 'affheln',\n",
       " 'affili',\n",
       " 'affiliatealmanac',\n",
       " 'affiliatemoneymakingsoftwar',\n",
       " 'afford',\n",
       " 'affstaart',\n",
       " 'afghan',\n",
       " 'afghanistan',\n",
       " 'afi',\n",
       " 'afid',\n",
       " 'afl',\n",
       " 'aflgjptamp',\n",
       " 'aflop',\n",
       " 'afm',\n",
       " 'afoipouliou',\n",
       " 'afqjcnfxtuk',\n",
       " 'afqjcngksdvheui',\n",
       " 'afqjcngkxhdywnwxm',\n",
       " 'afqjcngomygux',\n",
       " 'afqjcnhyzwurppr',\n",
       " 'africa',\n",
       " 'african',\n",
       " 'africanamerican',\n",
       " 'africanamericandrama',\n",
       " 'africanyouthpanel',\n",
       " 'afrocuba',\n",
       " 'afrodizz',\n",
       " 'aft',\n",
       " 'after',\n",
       " 'afterburn',\n",
       " 'afterhourspotomacsept',\n",
       " 'afterword',\n",
       " 'ag',\n",
       " 'again',\n",
       " 'against',\n",
       " 'againstalloodd',\n",
       " 'agar',\n",
       " 'agbugxykxholjbtsuj',\n",
       " 'agdtekirdag',\n",
       " 'age',\n",
       " 'agecvm',\n",
       " 'agenc',\n",
       " 'agenciadepublicidadebh',\n",
       " 'agencja',\n",
       " 'agend',\n",
       " 'agent',\n",
       " 'agentdetail',\n",
       " 'agentmetaus',\n",
       " 'agentoffic',\n",
       " 'agentx',\n",
       " 'agfsbgvyqhqtb',\n",
       " 'agfydg',\n",
       " 'agg',\n",
       " 'agi',\n",
       " 'agib',\n",
       " 'agkyycgcq',\n",
       " 'agl',\n",
       " 'agluzgvybwv',\n",
       " 'agm',\n",
       " 'agmdh',\n",
       " 'agminmuebl',\n",
       " 'agnost',\n",
       " 'agoda',\n",
       " 'agoniya',\n",
       " 'agora',\n",
       " 'agreement',\n",
       " 'agregado',\n",
       " 'agreta',\n",
       " 'agricol',\n",
       " 'agricolalombardi',\n",
       " 'agricultur',\n",
       " 'agrslsvu',\n",
       " 'agsteier',\n",
       " 'agszthzkj',\n",
       " 'agtslwvzc',\n",
       " 'aguaescondida',\n",
       " 'aguard',\n",
       " 'aguasdebraganca',\n",
       " 'aguilera',\n",
       " 'agunjwtl',\n",
       " 'agutcmvubmf',\n",
       " 'agvaot',\n",
       " 'agvdi',\n",
       " 'agvpenvuz',\n",
       " 'agvsz',\n",
       " 'agvyc',\n",
       " 'agwgi',\n",
       " 'ah',\n",
       " 'aha',\n",
       " 'ahappytrad',\n",
       " 'ahead',\n",
       " 'ahinda',\n",
       " 'ahkubgvlc',\n",
       " 'ahl',\n",
       " 'ahlyz',\n",
       " 'ahmadrabiu',\n",
       " 'ahmedboss',\n",
       " 'ahmetekrem',\n",
       " 'ahmetkaragoz',\n",
       " 'ahn',\n",
       " 'ahokt',\n",
       " 'ahq',\n",
       " 'ahr',\n",
       " 'ahrensburg',\n",
       " 'ahsnv',\n",
       " 'ahttp',\n",
       " 'ahunts',\n",
       " 'ahwk',\n",
       " 'ahykfxaagxpwvoqelwoavtczbw',\n",
       " 'ai',\n",
       " 'aia',\n",
       " 'aiba',\n",
       " 'aic',\n",
       " 'aich',\n",
       " 'aid',\n",
       " 'aida',\n",
       " 'aidyourlifestyl',\n",
       " 'aieijulbrbb',\n",
       " 'aii',\n",
       " 'aiirrglvqangvlo',\n",
       " 'aikasoft',\n",
       " 'aikidotradit',\n",
       " 'ailleur',\n",
       " 'aim',\n",
       " 'aimless',\n",
       " 'ainput',\n",
       " 'aintdoinshit',\n",
       " 'aiononlin',\n",
       " 'aippnetwork',\n",
       " 'aiqi',\n",
       " 'air',\n",
       " 'airbnbconf',\n",
       " 'airbusapp',\n",
       " 'aircraft',\n",
       " 'airfixcommerci',\n",
       " 'airfleet',\n",
       " 'airforc',\n",
       " 'airfreightit',\n",
       " 'airjordanpalac',\n",
       " 'airlin',\n",
       " 'airnav',\n",
       " 'airnet',\n",
       " 'airport',\n",
       " 'airway',\n",
       " 'airzon',\n",
       " 'aisha',\n",
       " 'aishasafari',\n",
       " 'aitiztdiemdb',\n",
       " 'aiv',\n",
       " 'aixmva',\n",
       " 'aizfytpynybkmdunvn',\n",
       " 'aj',\n",
       " 'ajack',\n",
       " 'ajax',\n",
       " 'ajaxswitch',\n",
       " 'ajbat',\n",
       " 'ajbeck',\n",
       " 'ajempi',\n",
       " 'ajewishgift',\n",
       " 'ajhello',\n",
       " 'ajln',\n",
       " 'ajlxysjn',\n",
       " 'ajmalilaw',\n",
       " 'ajo',\n",
       " 'ajohdkrus',\n",
       " 'ajos',\n",
       " 'ajp',\n",
       " 'ajpgi',\n",
       " 'ajqrevg',\n",
       " 'ajufemg',\n",
       " 'ajuo',\n",
       " 'ajuodv',\n",
       " 'ak',\n",
       " 'aka',\n",
       " 'akama',\n",
       " 'akb',\n",
       " 'akeeba',\n",
       " 'akey',\n",
       " 'akil',\n",
       " 'akirasakaguti',\n",
       " 'akismet',\n",
       " 'akkordarbeit',\n",
       " 'aklji',\n",
       " 'akok',\n",
       " 'akombaovao',\n",
       " 'akron',\n",
       " 'aks',\n",
       " 'akwadrat',\n",
       " 'akyeyci',\n",
       " 'akzent',\n",
       " 'al',\n",
       " 'alaa',\n",
       " 'alabama',\n",
       " 'alacrastor',\n",
       " 'aladdin',\n",
       " 'alaguia',\n",
       " 'alah',\n",
       " 'alain',\n",
       " 'alameda',\n",
       " 'alamedaco',\n",
       " 'alan',\n",
       " 'alanstrack',\n",
       " 'alarmi',\n",
       " 'alasir',\n",
       " 'alaskahort',\n",
       " 'albabalogin',\n",
       " 'albablogin',\n",
       " 'albanyschool',\n",
       " 'albatross',\n",
       " 'albert',\n",
       " 'alberta',\n",
       " 'albertoalexandr',\n",
       " 'albertocoto',\n",
       " 'albino',\n",
       " 'albion',\n",
       " 'album',\n",
       " 'albumid',\n",
       " 'albuquerquenewmexico',\n",
       " 'alc',\n",
       " 'alcaldiametropolitana',\n",
       " 'alcohol',\n",
       " 'aldi',\n",
       " 'aldierent',\n",
       " 'aldo',\n",
       " 'aldrich',\n",
       " 'alead',\n",
       " 'alebert',\n",
       " 'aleg',\n",
       " 'alejandraandelliot',\n",
       " 'alejandravillamoral',\n",
       " 'aleksandra',\n",
       " 'alenavarrofotografia',\n",
       " 'aleonstroy',\n",
       " 'aleronsecur',\n",
       " 'alert',\n",
       " 'alesha',\n",
       " 'alessirac',\n",
       " 'alex',\n",
       " 'alexa',\n",
       " 'alexand',\n",
       " 'alexanderdevasia',\n",
       " 'alexandr',\n",
       " 'alexandra',\n",
       " 'alexandragregori',\n",
       " 'alexandria',\n",
       " 'alexi',\n",
       " 'alexon',\n",
       " 'alexpeak',\n",
       " 'alfa',\n",
       " 'alfaboss',\n",
       " 'alfalah',\n",
       " 'alfamovi',\n",
       " 'alfmviadfoiyxjfvi',\n",
       " 'alford',\n",
       " 'alfr',\n",
       " 'alfurkan',\n",
       " 'algardesign',\n",
       " 'algo',\n",
       " 'algorith',\n",
       " 'alhajicarpentri',\n",
       " 'alhayrgfnewakd',\n",
       " 'ali',\n",
       " 'alia',\n",
       " 'alianzafrancesamti',\n",
       " 'alibaba',\n",
       " 'alibani',\n",
       " 'alibri',\n",
       " 'alic',\n",
       " 'aliceinchain',\n",
       " 'alicereview',\n",
       " 'alicphotographi',\n",
       " 'aliduman',\n",
       " 'alien',\n",
       " 'aliexpress',\n",
       " 'aliprod',\n",
       " 'alisarg',\n",
       " 'aliti',\n",
       " 'aliv',\n",
       " 'alivingtempl',\n",
       " 'aljo',\n",
       " 'alkadria',\n",
       " 'alkalifeph',\n",
       " 'alkauthar',\n",
       " 'all',\n",
       " 'allabout',\n",
       " 'allaboutjazz',\n",
       " 'allaboutlighthous',\n",
       " 'allaccount',\n",
       " 'allalla',\n",
       " 'allan',\n",
       " 'allandmedia',\n",
       " 'allard',\n",
       " 'allaround',\n",
       " 'allaroundhockeyhound',\n",
       " 'allaso',\n",
       " 'allbench',\n",
       " 'allbest',\n",
       " 'allbianca',\n",
       " 'allbreedpedigre',\n",
       " 'allbusi',\n",
       " 'allegro',\n",
       " 'allegrophoto',\n",
       " 'allegrosa',\n",
       " 'allen',\n",
       " 'allenco',\n",
       " 'allendemexico',\n",
       " 'allendesign',\n",
       " 'allergo',\n",
       " 'allergybustersqueensland',\n",
       " 'allert',\n",
       " 'allexpert',\n",
       " 'allflagsauto',\n",
       " 'allflagsautoexp',\n",
       " 'allforlov',\n",
       " 'allhighschool',\n",
       " 'alli',\n",
       " 'allianc',\n",
       " 'allianceplat',\n",
       " 'allinhost',\n",
       " 'allisabourm',\n",
       " 'allmilitari',\n",
       " 'allminnesota',\n",
       " 'allmus',\n",
       " 'allnorilsk',\n",
       " 'allpag',\n",
       " 'allpost',\n",
       " 'allrestaurantchair',\n",
       " 'allrss',\n",
       " 'allsaintsleamington',\n",
       " 'allshowbiz',\n",
       " 'allstarp',\n",
       " 'allstat',\n",
       " 'allstatenewsroom',\n",
       " 'allstream',\n",
       " 'alltim',\n",
       " 'alltimelow',\n",
       " 'allwebimag',\n",
       " 'allwwewrestl',\n",
       " 'allyc',\n",
       " 'almacentabilo',\n",
       " 'almackey',\n",
       " 'almanac',\n",
       " 'almond',\n",
       " 'almteam',\n",
       " 'alobitcoin',\n",
       " 'aloha',\n",
       " 'alomaaaaa',\n",
       " 'alon',\n",
       " 'along',\n",
       " 'alongsid',\n",
       " 'alouett',\n",
       " 'alpert',\n",
       " 'alpha',\n",
       " 'alphadecor',\n",
       " 'alphafilt',\n",
       " 'alphapharmacyltd',\n",
       " 'alpin',\n",
       " 'alright',\n",
       " 'alsac',\n",
       " 'alstoft',\n",
       " 'alt',\n",
       " 'altacasa',\n",
       " 'altair',\n",
       " 'altern',\n",
       " 'altervista',\n",
       " 'altfarm',\n",
       " 'alti',\n",
       " 'altitud',\n",
       " 'altivexfoundri',\n",
       " 'altman',\n",
       " 'altova',\n",
       " 'altr',\n",
       " 'altt',\n",
       " 'alttus',\n",
       " 'alturl',\n",
       " 'alu',\n",
       " 'alucatalan',\n",
       " 'alucq',\n",
       " 'alum',\n",
       " 'alumacraft',\n",
       " 'alumni',\n",
       " 'alumniclass',\n",
       " 'alumsm',\n",
       " 'aluno',\n",
       " 'alvar',\n",
       " 'alvarez',\n",
       " 'alvin',\n",
       " 'alvinltd',\n",
       " 'alvino',\n",
       " 'alvtdlkus',\n",
       " 'alwyn',\n",
       " 'alx',\n",
       " 'alyraupawppjw',\n",
       " 'am',\n",
       " 'amanda',\n",
       " 'amandaashleywikipedia',\n",
       " 'amandinemaugi',\n",
       " 'amarhost',\n",
       " 'amateur',\n",
       " 'amaz',\n",
       " 'amazingvacationhotel',\n",
       " 'amazon',\n",
       " 'ambankgroup',\n",
       " 'ambassador',\n",
       " 'ambaybuyerprotectionpoliciesindex',\n",
       " 'ambcf',\n",
       " 'amberexpedit',\n",
       " 'ambul',\n",
       " 'amc',\n",
       " 'amcntrld',\n",
       " 'amd',\n",
       " 'ame',\n",
       " 'ameli',\n",
       " 'amelia',\n",
       " 'amelii',\n",
       " 'amen',\n",
       " 'amenabarpropiedad',\n",
       " 'amendola',\n",
       " 'america',\n",
       " 'americadecali',\n",
       " 'americafirstfb',\n",
       " 'american',\n",
       " 'americana',\n",
       " 'americanbulldog',\n",
       " 'americanfootbal',\n",
       " 'americanidiot',\n",
       " 'americanidiotdenverticket',\n",
       " 'americanironsteel',\n",
       " 'americanofficecent',\n",
       " 'americansoccertrivia',\n",
       " 'americanussr',\n",
       " 'americanyouthfootbal',\n",
       " 'americasbestsleep',\n",
       " 'amerikali',\n",
       " 'ameripriseadvisor',\n",
       " 'ametsocjmk',\n",
       " 'amex',\n",
       " 'amexcod',\n",
       " 'amexupd',\n",
       " 'amezionuk',\n",
       " 'amfac',\n",
       " 'amfundmart',\n",
       " 'amh',\n",
       " 'ami',\n",
       " 'amical',\n",
       " 'amidog',\n",
       " 'amig',\n",
       " 'amiga',\n",
       " 'amil',\n",
       " 'amillion',\n",
       " 'amiri',\n",
       " 'amisgourmet',\n",
       " 'amj',\n",
       " 'amlta',\n",
       " 'amma',\n",
       " 'ammorsj',\n",
       " 'ammuzgvzawdulwt',\n",
       " 'ammzcezl',\n",
       " 'amo',\n",
       " 'amoeba',\n",
       " 'among',\n",
       " 'amorencolor',\n",
       " 'amorfa',\n",
       " 'amour',\n",
       " 'amp',\n",
       " 'ampedessay',\n",
       " 'amqui',\n",
       " 'amro',\n",
       " 'amserv',\n",
       " 'amsport',\n",
       " 'amssmni',\n",
       " 'amtgo',\n",
       " 'amvubnkuz',\n",
       " 'amw',\n",
       " 'amway',\n",
       " 'amwaydream',\n",
       " 'amygayallen',\n",
       " 'amyleekit',\n",
       " 'amyno',\n",
       " 'amz',\n",
       " 'amzon',\n",
       " 'an',\n",
       " 'anahuac',\n",
       " 'anaisdeandr',\n",
       " 'analekta',\n",
       " 'analxxxclipsyjh',\n",
       " 'analysi',\n",
       " 'analyst',\n",
       " 'analyt',\n",
       " 'anank',\n",
       " 'anarchyvapor',\n",
       " 'anastacia',\n",
       " 'anatomi',\n",
       " 'anbo',\n",
       " 'ancestor',\n",
       " 'ancestraltrail',\n",
       " 'ancestri',\n",
       " 'anchorwoman',\n",
       " 'ancient',\n",
       " 'ancientscript',\n",
       " 'and',\n",
       " 'anderson',\n",
       " 'andi',\n",
       " 'andoni',\n",
       " 'andr',\n",
       " 'andrea',\n",
       " 'andreaciliberti',\n",
       " 'andrew',\n",
       " 'andysautosport',\n",
       " 'anexo',\n",
       " 'angab',\n",
       " 'angebot',\n",
       " 'angel',\n",
       " 'angela',\n",
       " 'angelasumm',\n",
       " 'angelcorps',\n",
       " 'angelfilm',\n",
       " 'angelfir',\n",
       " 'angelhairdesignsbydawn',\n",
       " 'angelil',\n",
       " 'angelinacountygenealog',\n",
       " 'angelo',\n",
       " 'angelsantiqu',\n",
       " 'angi',\n",
       " 'angkana',\n",
       " 'angl',\n",
       " 'anglai',\n",
       " 'anglia',\n",
       " 'anglosa',\n",
       " 'ani',\n",
       " 'anijm',\n",
       " 'aniksm',\n",
       " 'aniltekmobilya',\n",
       " 'anim',\n",
       " 'animabook',\n",
       " 'animadvert',\n",
       " 'animalia',\n",
       " 'animeforum',\n",
       " 'animegun',\n",
       " 'aniscartujo',\n",
       " 'anita',\n",
       " 'anjan',\n",
       " 'anjoof',\n",
       " 'anjou',\n",
       " 'ank',\n",
       " 'ankakhutyun',\n",
       " 'ankara',\n",
       " 'ankaramand',\n",
       " 'ankaramus',\n",
       " 'ankarasoveyapi',\n",
       " 'anl',\n",
       " 'anlnvc',\n",
       " 'anmelden',\n",
       " 'ann',\n",
       " 'anna',\n",
       " 'annakraktour',\n",
       " 'annal',\n",
       " 'annatavlor',\n",
       " 'anneboverealtor',\n",
       " 'anniversari',\n",
       " 'anno',\n",
       " 'announc',\n",
       " 'annstring',\n",
       " 'annuair',\n",
       " 'annual',\n",
       " 'annuncilapiazza',\n",
       " 'ano',\n",
       " 'anon',\n",
       " 'anothersupport',\n",
       " 'anoy',\n",
       " 'anpingwa',\n",
       " 'anqvdaiamp',\n",
       " 'anr',\n",
       " 'anrsynergi',\n",
       " 'ansc',\n",
       " 'ansi',\n",
       " 'ansinet',\n",
       " 'answer',\n",
       " 'answerdud',\n",
       " 'answerquest',\n",
       " 'answerview',\n",
       " 'antagoni',\n",
       " 'antenna',\n",
       " 'anthem',\n",
       " 'antholog',\n",
       " 'anthoni',\n",
       " ...]"
      ]
     },
     "execution_count": 30,
     "metadata": {},
     "output_type": "execute_result"
    }
   ],
   "source": [
    "F= cv.get_feature_names()\n",
    "F"
   ]
  },
  {
   "cell_type": "code",
   "execution_count": 31,
   "id": "cab1ba40",
   "metadata": {},
   "outputs": [],
   "source": [
    "X=feature\n",
    "#X=vectors"
   ]
  },
  {
   "cell_type": "code",
   "execution_count": 32,
   "id": "ad5f89d0",
   "metadata": {},
   "outputs": [
    {
     "name": "stdout",
     "output_type": "stream",
     "text": [
      "(12000, 25249)\n",
      "(12000, 5)\n"
     ]
    }
   ],
   "source": [
    "print(X.shape)\n",
    "print(data.shape)"
   ]
  },
  {
   "cell_type": "code",
   "execution_count": 33,
   "id": "89631e17",
   "metadata": {},
   "outputs": [],
   "source": [
    "Y=data[\"Label\"]"
   ]
  },
  {
   "cell_type": "code",
   "execution_count": 34,
   "id": "08c5b241",
   "metadata": {},
   "outputs": [
    {
     "data": {
      "text/plain": [
       "0        1\n",
       "1        1\n",
       "2        1\n",
       "3        1\n",
       "4        1\n",
       "        ..\n",
       "11995    0\n",
       "11996    0\n",
       "11997    0\n",
       "11998    0\n",
       "11999    0\n",
       "Name: Label, Length: 12000, dtype: int64"
      ]
     },
     "execution_count": 34,
     "metadata": {},
     "output_type": "execute_result"
    }
   ],
   "source": [
    "Y"
   ]
  },
  {
   "cell_type": "markdown",
   "id": "361a4c05",
   "metadata": {},
   "source": [
    "## 3.Splitting the Data"
   ]
  },
  {
   "cell_type": "code",
   "execution_count": 35,
   "id": "cf37082e",
   "metadata": {},
   "outputs": [],
   "source": [
    "from sklearn.model_selection import train_test_split"
   ]
  },
  {
   "cell_type": "code",
   "execution_count": 36,
   "id": "82d5696e",
   "metadata": {},
   "outputs": [],
   "source": [
    "X_train,X_test,Y_train,Y_test = train_test_split(X,Y,test_size=0.20,random_state=42)"
   ]
  },
  {
   "cell_type": "code",
   "execution_count": 37,
   "id": "dd55a576",
   "metadata": {},
   "outputs": [
    {
     "data": {
      "text/plain": [
       "array([[0, 0, 0, ..., 0, 0, 0],\n",
       "       [0, 0, 0, ..., 0, 0, 0],\n",
       "       [0, 0, 0, ..., 0, 0, 0],\n",
       "       ...,\n",
       "       [0, 0, 0, ..., 0, 0, 0],\n",
       "       [0, 0, 0, ..., 0, 0, 0],\n",
       "       [0, 0, 0, ..., 0, 0, 0]], dtype=int64)"
      ]
     },
     "execution_count": 37,
     "metadata": {},
     "output_type": "execute_result"
    }
   ],
   "source": [
    "X_train"
   ]
  },
  {
   "cell_type": "code",
   "execution_count": 38,
   "id": "5ac7301d",
   "metadata": {},
   "outputs": [
    {
     "data": {
      "text/plain": [
       "9182     0\n",
       "11091    0\n",
       "6428     0\n",
       "288      1\n",
       "2626     1\n",
       "        ..\n",
       "11964    0\n",
       "5191     1\n",
       "5390     1\n",
       "860      1\n",
       "7270     0\n",
       "Name: Label, Length: 9600, dtype: int64"
      ]
     },
     "execution_count": 38,
     "metadata": {},
     "output_type": "execute_result"
    }
   ],
   "source": [
    "Y_train"
   ]
  },
  {
   "cell_type": "code",
   "execution_count": 39,
   "id": "d582b392",
   "metadata": {},
   "outputs": [
    {
     "data": {
      "text/plain": [
       "array([[0, 0, 0, ..., 0, 0, 0],\n",
       "       [0, 0, 0, ..., 0, 0, 0],\n",
       "       [0, 0, 0, ..., 0, 0, 0],\n",
       "       ...,\n",
       "       [0, 0, 0, ..., 0, 0, 0],\n",
       "       [0, 0, 0, ..., 0, 0, 0],\n",
       "       [0, 0, 0, ..., 0, 0, 0]], dtype=int64)"
      ]
     },
     "execution_count": 39,
     "metadata": {},
     "output_type": "execute_result"
    }
   ],
   "source": [
    "X_test"
   ]
  },
  {
   "cell_type": "code",
   "execution_count": 40,
   "id": "4fcbbff6",
   "metadata": {},
   "outputs": [
    {
     "data": {
      "text/plain": [
       "1935     1\n",
       "6494     0\n",
       "1720     1\n",
       "9120     0\n",
       "360      1\n",
       "        ..\n",
       "1195     1\n",
       "11877    0\n",
       "5421     1\n",
       "3855     1\n",
       "4414     1\n",
       "Name: Label, Length: 2400, dtype: int64"
      ]
     },
     "execution_count": 40,
     "metadata": {},
     "output_type": "execute_result"
    }
   ],
   "source": [
    "Y_test"
   ]
  },
  {
   "cell_type": "code",
   "execution_count": 41,
   "id": "f5aca2ac",
   "metadata": {},
   "outputs": [
    {
     "name": "stdout",
     "output_type": "stream",
     "text": [
      "(9600, 25249)\n",
      "(2400, 25249)\n",
      "(9600,)\n",
      "(2400,)\n"
     ]
    }
   ],
   "source": [
    "print(X_train.shape)\n",
    "print(X_test.shape)\n",
    "print(Y_train.shape)\n",
    "print(Y_test.shape)"
   ]
  },
  {
   "cell_type": "markdown",
   "id": "61e56a0f",
   "metadata": {},
   "source": [
    "## 4.Model Building"
   ]
  },
  {
   "cell_type": "markdown",
   "id": "a121a697",
   "metadata": {},
   "source": [
    "## 4.1 Random Forest"
   ]
  },
  {
   "cell_type": "markdown",
   "id": "9df2485b",
   "metadata": {},
   "source": [
    "### 4.1.1 Model Building\n"
   ]
  },
  {
   "cell_type": "code",
   "execution_count": 42,
   "id": "2fac408e",
   "metadata": {},
   "outputs": [],
   "source": [
    "from sklearn import metrics\n",
    "from sklearn.metrics import precision_score,recall_score,accuracy_score"
   ]
  },
  {
   "cell_type": "code",
   "execution_count": 43,
   "id": "c6cfdf2f",
   "metadata": {},
   "outputs": [],
   "source": [
    "from sklearn.ensemble import RandomForestClassifier"
   ]
  },
  {
   "cell_type": "code",
   "execution_count": 44,
   "id": "956296e4",
   "metadata": {},
   "outputs": [
    {
     "data": {
      "text/plain": [
       "0.9998958333333333"
      ]
     },
     "execution_count": 44,
     "metadata": {},
     "output_type": "execute_result"
    }
   ],
   "source": [
    "RF=RandomForestClassifier(n_estimators=250)\n",
    "RF.fit(X_train,Y_train)\n",
    "RF.score(X_train,Y_train)"
   ]
  },
  {
   "cell_type": "code",
   "execution_count": 45,
   "id": "648bb543",
   "metadata": {
    "scrolled": false
   },
   "outputs": [
    {
     "name": "stdout",
     "output_type": "stream",
     "text": [
      "RF-TEST SCORE: 0.9170833333333334\n"
     ]
    }
   ],
   "source": [
    "print(\"RF-TEST SCORE:\",RF.score(X_test,Y_test))"
   ]
  },
  {
   "cell_type": "code",
   "execution_count": 46,
   "id": "e84f51b6",
   "metadata": {},
   "outputs": [],
   "source": [
    "y1_RF_pred=RF.predict(X_train)\n",
    "y_RF_pred=RF.predict(X_test)"
   ]
  },
  {
   "cell_type": "code",
   "execution_count": 47,
   "id": "49e4df97",
   "metadata": {},
   "outputs": [
    {
     "data": {
      "text/plain": [
       "array([0, 0, 0, ..., 1, 1, 0], dtype=int64)"
      ]
     },
     "execution_count": 47,
     "metadata": {},
     "output_type": "execute_result"
    }
   ],
   "source": [
    "y_RF_pred"
   ]
  },
  {
   "cell_type": "code",
   "execution_count": 48,
   "id": "f68e30ec",
   "metadata": {},
   "outputs": [
    {
     "data": {
      "image/png": "[encoded data removed]",
      "text/plain": [
       "<Figure size 432x288 with 1 Axes>"
      ]
     },
     "metadata": {},
     "output_type": "display_data"
    }
   ],
   "source": [
    "# Define the range of training data sizes to test\n",
    "training_data_sizes_lr = [100, 500, 1000, 2000, 5000]\n",
    "training_accuracy = []\n",
    "\n",
    "# Initialize a list to store the calculated accuracies\n",
    "accuracy_lr = []\n",
    "\n",
    "# Loop through the training data sizes\n",
    "for size in training_data_sizes_lr:\n",
    "    # Split the data into training and test sets\n",
    "    X_train1, X_test1, y_train1, y_test1 = train_test_split(X, Y, train_size=size, random_state=42)\n",
    "    \n",
    "    # Train a Logistic Regression model\n",
    "    clf =RandomForestClassifier(n_estimators=250)\n",
    "\n",
    "    clf.fit(X_train1, y_train1)\n",
    "    training_accuracy.append(clf.score(X_train1, y_train1))\n",
    "    \n",
    "    # Predict on the test set\n",
    "    y_pred = clf.predict(X_test1)\n",
    "    \n",
    "    # Calculate accuracy using X_test and y_test, and append to the accuracy list\n",
    "    accuracy = accuracy_score( y_test1,y_pred)\n",
    "    accuracy_lr.append(accuracy)\n",
    "\n",
    "# Create plot for Logistic Regression\n",
    "plt.plot(training_data_sizes_lr, training_accuracy , marker='o')  # plot data points with markers\n",
    "\n",
    "plt.plot(training_data_sizes_lr, accuracy_lr, marker='o')  # plot data points with markers\n",
    "plt.xlabel('Training Data Size')\n",
    "plt.ylabel('Accuracy')\n",
    "plt.title('Accuracy vs Training Data Size for Random Forest')\n",
    "plt.grid(True)\n",
    "plt.show()\n"
   ]
  },
  {
   "cell_type": "markdown",
   "id": "f807fa4a",
   "metadata": {},
   "source": [
    "### 4.1.2 Confusion Matrix"
   ]
  },
  {
   "cell_type": "code",
   "execution_count": 49,
   "id": "27bf4978",
   "metadata": {},
   "outputs": [
    {
     "data": {
      "text/plain": [
       "<AxesSubplot:title={'center':'Random Forest Confusion Matrix'}>"
      ]
     },
     "execution_count": 49,
     "metadata": {},
     "output_type": "execute_result"
    },
    {
     "data": {
      "image/png": "[encoded data removed]",
      "text/plain": [
       "<Figure size 432x288 with 1 Axes>"
      ]
     },
     "metadata": {},
     "output_type": "display_data"
    }
   ],
   "source": [
    "from sklearn.metrics import confusion_matrix\n",
    "cm_rf_count = confusion_matrix(Y_test,y_RF_pred)\n",
    "plt.subplot(2,3,3)\n",
    "plt.title(\"Random Forest Confusion Matrix\")\n",
    "sns.heatmap(cm_rf_count,annot=True,cmap=\"Blues\",fmt=\"d\",cbar=False, annot_kws={\"size\": 15})\n"
   ]
  },
  {
   "cell_type": "markdown",
   "id": "82154d3a",
   "metadata": {},
   "source": [
    "### 4.1.3 Calculating Metrics"
   ]
  },
  {
   "cell_type": "code",
   "execution_count": 50,
   "id": "e3d822c6",
   "metadata": {},
   "outputs": [
    {
     "name": "stdout",
     "output_type": "stream",
     "text": [
      "TESTING ACCURACY   : 0.9170833333333334\n",
      "TESTING PRECISION  : 0.8938775510204081\n",
      "TESTING RECALL     : 0.9407216494845361\n",
      "TESTING F1 SCORE   : 0.9167015487651737\n"
     ]
    }
   ],
   "source": [
    "tp=cm_rf_count[0][0]\n",
    "tn=cm_rf_count[1][1]\n",
    "fp=cm_rf_count[1][0]\n",
    "fn=cm_rf_count[0][1]\n",
    "accuracy=(tp+tn)/(tp+tn+fp+fn)\n",
    "precision=tp/(tp+fp)\n",
    "recall=tp/(tp+fn)\n",
    "f1_score=(2*precision*recall)/(precision+recall)\n",
    "print(\"TESTING ACCURACY   :\",accuracy)\n",
    "print(\"TESTING PRECISION  :\",precision)\n",
    "print(\"TESTING RECALL     :\",recall)\n",
    "print(\"TESTING F1 SCORE   :\",f1_score)"
   ]
  },
  {
   "cell_type": "code",
   "execution_count": 51,
   "id": "8ff274a4",
   "metadata": {
    "scrolled": true
   },
   "outputs": [
    {
     "name": "stdout",
     "output_type": "stream",
     "text": [
      "RandomForest  : Accuracy on training Data: 0.9998958333333333\n",
      "RandomForest  : Accuracy on test Data: 0.9170833333333334\n",
      "\n",
      "RandomForest  : precision on training Data: 0.9997901364113326\n",
      "RandomForest  : precision on test Data: 0.9412765957446808\n",
      "\n",
      "RandomForest  : Recall on training Data: 1.0\n",
      "RandomForest  : Recall on test Data: 0.8948220064724919\n",
      "\n",
      "RandomForest  : f1_score on training Data: 0.9998950571938293\n",
      "RandomForest  : f1_score on test Data: 0.91746163417669\n"
     ]
    }
   ],
   "source": [
    "print(\"RandomForest  : Accuracy on training Data: {}\".format(metrics.accuracy_score(Y_train,y1_RF_pred)))\n",
    "print(\"RandomForest  : Accuracy on test Data: {:}\".format(metrics.accuracy_score(Y_test,y_RF_pred)))\n",
    "print()\n",
    "print(\"RandomForest  : precision on training Data: {}\".format(metrics.precision_score(Y_train,y1_RF_pred)))\n",
    "print(\"RandomForest  : precision on test Data: {}\".format(metrics.precision_score(Y_test,y_RF_pred)))\n",
    "print()\n",
    "print(\"RandomForest  : Recall on training Data: {}\".format(metrics.recall_score(Y_train,y1_RF_pred)))\n",
    "print(\"RandomForest  : Recall on test Data: {}\".format(metrics.recall_score(Y_test,y_RF_pred)))\n",
    "print()\n",
    "print(\"RandomForest  : f1_score on training Data: {}\".format(metrics.f1_score(Y_train,y1_RF_pred)))\n",
    "print(\"RandomForest  : f1_score on test Data: {}\".format(metrics.f1_score(Y_test,y_RF_pred)))"
   ]
  },
  {
   "cell_type": "code",
   "execution_count": 52,
   "id": "714acbcd",
   "metadata": {},
   "outputs": [
    {
     "data": {
      "image/png": "[encoded data removed]",
      "text/plain": [
       "<Figure size 432x288 with 1 Axes>"
      ]
     },
     "metadata": {},
     "output_type": "display_data"
    }
   ],
   "source": [
    "Yresult=[metrics.accuracy_score(Y_train,y1_RF_pred),metrics.precision_score(Y_train,y1_RF_pred),\n",
    "         metrics.recall_score(Y_train,y1_RF_pred),\n",
    "         metrics.f1_score(Y_train,y1_RF_pred),]\n",
    "zresult=[metrics.accuracy_score(Y_test,y_RF_pred),metrics.precision_score(Y_test,y_RF_pred),\n",
    "         metrics.recall_score(Y_test,y_RF_pred),\n",
    "         metrics.f1_score(Y_test,y_RF_pred),]\n",
    "a=[\"Accuracy\",\"Precision\",\"Recall\",\"F1 score\"]\n",
    "X_axis=np.arange(len(a))\n",
    "plt.bar(X_axis -0.2,Yresult,0.4,label=\"Training\",color=\"yellow\",edgecolor=\"black\")\n",
    "plt.bar(X_axis +0.2,zresult,0.4,label=\"Testing\",color=\"cyan\",edgecolor=\"black\")\n",
    "plt.xticks(X_axis,a)\n",
    "plt.yticks(np.arange(0,1.5,0.1))\n",
    "plt.xlabel(\"Metrics\")\n",
    "plt.ylabel(\"Percentage\")\n",
    "plt.title(\"BAR GRAPH OF Metrics\")\n",
    "plt.legend()\n",
    "plt.ylim(0,1.3)\n",
    "plt.show()"
   ]
  },
  {
   "cell_type": "markdown",
   "id": "8b43a3d1",
   "metadata": {},
   "source": [
    "## 4.2 Logistic Regression "
   ]
  },
  {
   "cell_type": "markdown",
   "id": "0d698677",
   "metadata": {},
   "source": [
    "### 4.2.1 Model Building"
   ]
  },
  {
   "cell_type": "code",
   "execution_count": 53,
   "id": "63cabafc",
   "metadata": {},
   "outputs": [],
   "source": [
    "from sklearn.linear_model import LogisticRegression"
   ]
  },
  {
   "cell_type": "code",
   "execution_count": 54,
   "id": "cb01e548",
   "metadata": {},
   "outputs": [],
   "source": [
    "LR=LogisticRegression()"
   ]
  },
  {
   "cell_type": "code",
   "execution_count": 55,
   "id": "aef1e3e5",
   "metadata": {},
   "outputs": [
    {
     "data": {
      "text/plain": [
       "0.9796875"
      ]
     },
     "execution_count": 55,
     "metadata": {},
     "output_type": "execute_result"
    }
   ],
   "source": [
    "LR.fit(X_train,Y_train)\n",
    "LR.score(X_train,Y_train)"
   ]
  },
  {
   "cell_type": "code",
   "execution_count": 56,
   "id": "5fce9990",
   "metadata": {},
   "outputs": [
    {
     "name": "stdout",
     "output_type": "stream",
     "text": [
      "LR-TEST SCORE: 0.91875\n"
     ]
    }
   ],
   "source": [
    "print(\"LR-TEST SCORE:\",LR.score(X_test,Y_test))"
   ]
  },
  {
   "cell_type": "code",
   "execution_count": 57,
   "id": "aaed8126",
   "metadata": {},
   "outputs": [],
   "source": [
    "y1_LR_pred=LR.predict(X_train)\n",
    "y_LR_pred=LR.predict(X_test)"
   ]
  },
  {
   "cell_type": "code",
   "execution_count": 58,
   "id": "37d0378d",
   "metadata": {},
   "outputs": [
    {
     "data": {
      "text/plain": [
       "'\\ntraining_accuracy = []\\ntest_accuracy = []\\n# try max_depth from 1 to 20\\ndepth = range(1,20)\\nfor n in depth:\\n    LR=LogisticRegression()\\n\\n    LR.fit(X_train, Y_train)\\n    # record training set accuracy\\n    training_accuracy.append(LR.score(X_train, Y_train))\\n    # record generalization accuracy\\n    test_accuracy.append(LR.score(X_test, Y_test))\\n    \\n\\n#plotting the training & testing accuracy for n_estimators from 1 to 20\\nplt.plot(depth, training_accuracy, label=\"training accuracy\",color=\"green\")\\nplt.plot(depth, test_accuracy, label=\"test accuracy\",color=\"red\")\\nplt.ylabel(\"Accuracy\")  \\nplt.xlabel(\"n_neighbors\")\\nplt.legend();\\n'"
      ]
     },
     "execution_count": 58,
     "metadata": {},
     "output_type": "execute_result"
    }
   ],
   "source": [
    "\"\"\"\n",
    "training_accuracy = []\n",
    "test_accuracy = []\n",
    "# try max_depth from 1 to 20\n",
    "depth = range(1,20)\n",
    "for n in depth:\n",
    "    LR=LogisticRegression()\n",
    "\n",
    "    LR.fit(X_train, Y_train)\n",
    "    # record training set accuracy\n",
    "    training_accuracy.append(LR.score(X_train, Y_train))\n",
    "    # record generalization accuracy\n",
    "    test_accuracy.append(LR.score(X_test, Y_test))\n",
    "    \n",
    "\n",
    "#plotting the training & testing accuracy for n_estimators from 1 to 20\n",
    "plt.plot(depth, training_accuracy, label=\"training accuracy\",color=\"green\")\n",
    "plt.plot(depth, test_accuracy, label=\"test accuracy\",color=\"red\")\n",
    "plt.ylabel(\"Accuracy\")  \n",
    "plt.xlabel(\"n_neighbors\")\n",
    "plt.legend();\n",
    "\"\"\""
   ]
  },
  {
   "cell_type": "code",
   "execution_count": 59,
   "id": "05515b92",
   "metadata": {},
   "outputs": [
    {
     "data": {
      "image/png": "[encoded data removed]",
      "text/plain": [
       "<Figure size 432x288 with 1 Axes>"
      ]
     },
     "metadata": {},
     "output_type": "display_data"
    }
   ],
   "source": [
    "# Define the range of training data sizes to test\n",
    "training_data_sizes_lr = [100,1000, 2000, 5000,10000]\n",
    "training_accuracy = []\n",
    "\n",
    "# Initialize a list to store the calculated accuracies\n",
    "accuracy_lr = []\n",
    "\n",
    "# Loop through the training data sizes\n",
    "for size in training_data_sizes_lr:\n",
    "    # Split the data into training and test sets\n",
    "    X_train1, X_test1, y_train1, y_test1 = train_test_split(X, Y, train_size=size, random_state=42)\n",
    "    \n",
    "    # Train a Logistic Regression model\n",
    "    clf = LogisticRegression(random_state=42)\n",
    "    clf.fit(X_train1, y_train1)\n",
    "    training_accuracy.append(clf.score(X_train1, y_train1))\n",
    "    \n",
    "    # Predict on the test set\n",
    "    y_pred = clf.predict(X_test1)\n",
    "    \n",
    "    # Calculate accuracy using X_test and y_test, and append to the accuracy list\n",
    "    accuracy = accuracy_score( y_test1,y_pred)\n",
    "    accuracy_lr.append(accuracy)\n",
    "\n",
    "# Create plot for Logistic Regression\n",
    "plt.plot(training_data_sizes_lr, training_accuracy , marker='o')  # plot data points with markers\n",
    "\n",
    "plt.plot(training_data_sizes_lr, accuracy_lr, marker='o')  # plot data points with markers\n",
    "plt.xlabel('Training Data Size')\n",
    "plt.ylabel('Accuracy')\n",
    "plt.title('Accuracy vs Training Data Size for Logistic Regression')\n",
    "plt.grid(True)\n",
    "plt.show()\n"
   ]
  },
  {
   "cell_type": "markdown",
   "id": "0cfa0e82",
   "metadata": {},
   "source": [
    "### 4.2.2 Confusion Matrix"
   ]
  },
  {
   "cell_type": "code",
   "execution_count": 60,
   "id": "d97c6c2f",
   "metadata": {},
   "outputs": [
    {
     "data": {
      "text/plain": [
       "<AxesSubplot:title={'center':'LogisticRegression Confusion Matrix'}>"
      ]
     },
     "execution_count": 60,
     "metadata": {},
     "output_type": "execute_result"
    },
    {
     "data": {
      "image/png": "[encoded data removed]",
      "text/plain": [
       "<Figure size 432x288 with 1 Axes>"
      ]
     },
     "metadata": {},
     "output_type": "display_data"
    }
   ],
   "source": [
    "from sklearn.metrics import confusion_matrix\n",
    "cm_LR_count = confusion_matrix(Y_test,y_LR_pred)\n",
    "plt.subplot(2,3,3)\n",
    "plt.title(\"LogisticRegression Confusion Matrix\")\n",
    "sns.heatmap(cm_LR_count,annot=True,cmap=\"Blues\",fmt=\"d\",cbar=False, annot_kws={\"size\": 15})\n"
   ]
  },
  {
   "cell_type": "markdown",
   "id": "d9ab7e9e",
   "metadata": {},
   "source": [
    "### 4.2.3 Calculating Metrics"
   ]
  },
  {
   "cell_type": "code",
   "execution_count": 61,
   "id": "af288194",
   "metadata": {
    "scrolled": true
   },
   "outputs": [
    {
     "name": "stdout",
     "output_type": "stream",
     "text": [
      "TESTING ACCURACY   : 0.91875\n",
      "TESTING PRECISION  : 0.888532477947073\n",
      "TESTING RECALL     : 0.9518900343642611\n",
      "TESTING F1 SCORE   : 0.9191206968063045\n"
     ]
    }
   ],
   "source": [
    "tp=cm_LR_count[0][0]\n",
    "tn=cm_LR_count[1][1]\n",
    "fp=cm_LR_count[1][0]\n",
    "fn=cm_LR_count[0][1]\n",
    "accuracy=(tp+tn)/(tp+tn+fp+fn)\n",
    "precision=tp/(tp+fp)\n",
    "recall=tp/(tp+fn)\n",
    "f1_score=(2*precision*recall)/(precision+recall)\n",
    "print(\"TESTING ACCURACY   :\",accuracy)\n",
    "print(\"TESTING PRECISION  :\",precision)\n",
    "print(\"TESTING RECALL     :\",recall)\n",
    "print(\"TESTING F1 SCORE   :\",f1_score)"
   ]
  },
  {
   "cell_type": "code",
   "execution_count": 62,
   "id": "404660f5",
   "metadata": {
    "scrolled": false
   },
   "outputs": [
    {
     "name": "stdout",
     "output_type": "stream",
     "text": [
      "Logistic Regression : Accuracy on training Data: 0.9796875\n",
      "Logistic Regression : Accuracy on test Data: 0.91875\n",
      "\n",
      "Logistic Regression : precision on training Data: 0.9937324400259347\n",
      "Logistic Regression : precision on test Data: 0.9514310494362532\n",
      "\n",
      "Logistic Regression : Recall on training Data: 0.9651553316540722\n",
      "Logistic Regression : Recall on test Data: 0.8875404530744336\n",
      "\n",
      "Logistic Regression : f1_score on training Data: 0.9792354381854969\n",
      "Logistic Regression : f1_score on test Data: 0.918375889493512\n"
     ]
    }
   ],
   "source": [
    "print(\"Logistic Regression : Accuracy on training Data: {}\".format(metrics.accuracy_score(Y_train,y1_LR_pred)))\n",
    "print(\"Logistic Regression : Accuracy on test Data: {:}\".format(metrics.accuracy_score(Y_test,y_LR_pred)))\n",
    "print()\n",
    "print(\"Logistic Regression : precision on training Data: {}\".format(metrics.precision_score(Y_train,y1_LR_pred)))\n",
    "print(\"Logistic Regression : precision on test Data: {}\".format(metrics.precision_score(Y_test,y_LR_pred)))\n",
    "print()\n",
    "print(\"Logistic Regression : Recall on training Data: {}\".format(metrics.recall_score(Y_train,y1_LR_pred)))\n",
    "print(\"Logistic Regression : Recall on test Data: {}\".format(metrics.recall_score(Y_test,y_LR_pred)))\n",
    "print()\n",
    "print(\"Logistic Regression : f1_score on training Data: {}\".format(metrics.f1_score(Y_train,y1_LR_pred)))\n",
    "print(\"Logistic Regression : f1_score on test Data: {}\".format(metrics.f1_score(Y_test,y_LR_pred)))"
   ]
  },
  {
   "cell_type": "code",
   "execution_count": 63,
   "id": "9da9172b",
   "metadata": {},
   "outputs": [
    {
     "data": {
      "image/png": "[encoded data removed]",
      "text/plain": [
       "<Figure size 432x288 with 1 Axes>"
      ]
     },
     "metadata": {},
     "output_type": "display_data"
    }
   ],
   "source": [
    "Yresult=[metrics.accuracy_score(Y_train,y1_LR_pred),metrics.precision_score(Y_train,y1_LR_pred),\n",
    "         metrics.recall_score(Y_train,y1_LR_pred),\n",
    "         metrics.f1_score(Y_train,y1_LR_pred),]\n",
    "zresult=[metrics.accuracy_score(Y_test,y_LR_pred),metrics.precision_score(Y_test,y_LR_pred),\n",
    "         metrics.recall_score(Y_test,y_LR_pred),\n",
    "         metrics.f1_score(Y_test,y_LR_pred),]\n",
    "a=[\"Accuracy\",\"Precision\",\"Recall\",\"F1 score\"]\n",
    "X_axis=np.arange(len(a))\n",
    "plt.bar(X_axis -0.2,Yresult,0.4,label=\"Training\",color=\"yellow\",edgecolor=\"black\")\n",
    "plt.bar(X_axis +0.2,zresult,0.4,label=\"Testing\",color=\"cyan\",edgecolor=\"black\")\n",
    "plt.xticks(X_axis,a)\n",
    "plt.yticks(np.arange(0,1.5,0.1))\n",
    "plt.xlabel(\"Metrics\")\n",
    "plt.ylabel(\"Percentage\")\n",
    "plt.title(\"BAR GRAPH OF Metrics\")\n",
    "plt.legend()\n",
    "plt.ylim(0,1.3)\n",
    "plt.show()"
   ]
  },
  {
   "cell_type": "markdown",
   "id": "1cfc479d",
   "metadata": {},
   "source": [
    "## 4.3 Naive Bayes "
   ]
  },
  {
   "cell_type": "markdown",
   "id": "4b21bea0",
   "metadata": {},
   "source": [
    "### 4.3.1 Model Building"
   ]
  },
  {
   "cell_type": "code",
   "execution_count": 64,
   "id": "5bc31a88",
   "metadata": {},
   "outputs": [],
   "source": [
    "from sklearn.naive_bayes import GaussianNB"
   ]
  },
  {
   "cell_type": "code",
   "execution_count": 65,
   "id": "2b79cb1f",
   "metadata": {},
   "outputs": [],
   "source": [
    "NB=GaussianNB()"
   ]
  },
  {
   "cell_type": "code",
   "execution_count": 66,
   "id": "826e5cab",
   "metadata": {},
   "outputs": [
    {
     "data": {
      "text/plain": [
       "0.995625"
      ]
     },
     "execution_count": 66,
     "metadata": {},
     "output_type": "execute_result"
    }
   ],
   "source": [
    "NB.fit(X_train,Y_train)\n",
    "NB.score(X_train,Y_train)"
   ]
  },
  {
   "cell_type": "code",
   "execution_count": 67,
   "id": "a21b7dbf",
   "metadata": {
    "scrolled": false
   },
   "outputs": [
    {
     "name": "stdout",
     "output_type": "stream",
     "text": [
      "NB-TEST SCORE: 0.8629166666666667\n"
     ]
    }
   ],
   "source": [
    "print(\"NB-TEST SCORE:\",NB.score(X_test,Y_test))"
   ]
  },
  {
   "cell_type": "code",
   "execution_count": 68,
   "id": "0baa015c",
   "metadata": {},
   "outputs": [],
   "source": [
    "y1_NB_pred=NB.predict(X_train)\n",
    "y_NB_pred=NB.predict(X_test)"
   ]
  },
  {
   "cell_type": "code",
   "execution_count": 69,
   "id": "fd3ab800",
   "metadata": {},
   "outputs": [
    {
     "data": {
      "text/plain": [
       "'\\ntraining_accuracy = []\\ntest_accuracy = []\\n# try max_depth from 1 to 20\\ndepth = range(1,20)\\nfor n in depth:\\n    NB= GaussianNB() \\n\\n    NB.fit(X_train, Y_train)\\n    # record training set accuracy\\n    training_accuracy.append(NB.score(X_train, Y_train))\\n    # record generalization accuracy\\n    test_accuracy.append(NB.score(X_test, Y_test))\\n    \\n\\n#plotting the training & testing accuracy for n_estimators from 1 to 20\\nplt.plot(depth, training_accuracy, label=\"training accuracy\",color=\"green\")\\nplt.plot(depth, test_accuracy, label=\"test accuracy\",color=\"red\")\\nplt.ylabel(\"Accuracy\")  \\nplt.xlabel(\"n_neighbors\")\\nplt.legend();\\n'"
      ]
     },
     "execution_count": 69,
     "metadata": {},
     "output_type": "execute_result"
    }
   ],
   "source": [
    "\"\"\"\n",
    "training_accuracy = []\n",
    "test_accuracy = []\n",
    "# try max_depth from 1 to 20\n",
    "depth = range(1,20)\n",
    "for n in depth:\n",
    "    NB= GaussianNB() \n",
    "\n",
    "    NB.fit(X_train, Y_train)\n",
    "    # record training set accuracy\n",
    "    training_accuracy.append(NB.score(X_train, Y_train))\n",
    "    # record generalization accuracy\n",
    "    test_accuracy.append(NB.score(X_test, Y_test))\n",
    "    \n",
    "\n",
    "#plotting the training & testing accuracy for n_estimators from 1 to 20\n",
    "plt.plot(depth, training_accuracy, label=\"training accuracy\",color=\"green\")\n",
    "plt.plot(depth, test_accuracy, label=\"test accuracy\",color=\"red\")\n",
    "plt.ylabel(\"Accuracy\")  \n",
    "plt.xlabel(\"n_neighbors\")\n",
    "plt.legend();\n",
    "\"\"\""
   ]
  },
  {
   "cell_type": "code",
   "execution_count": 70,
   "id": "f76f9a6b",
   "metadata": {},
   "outputs": [
    {
     "data": {
      "image/png": "[encoded data removed]",
      "text/plain": [
       "<Figure size 432x288 with 1 Axes>"
      ]
     },
     "metadata": {},
     "output_type": "display_data"
    }
   ],
   "source": [
    "# Define the range of training data sizes to test\n",
    "training_data_sizes_lr = [100, 1000, 2000, 5000,10000]\n",
    "training_accuracy = []\n",
    "\n",
    "# Initialize a list to store the calculated accuracies\n",
    "accuracy_lr = []\n",
    "\n",
    "# Loop through the training data sizes\n",
    "for size in training_data_sizes_lr:\n",
    "    # Split the data into training and test sets\n",
    "    X_train1, X_test1, y_train1, y_test1 = train_test_split(X, Y, train_size=size, random_state=42)\n",
    "    \n",
    "    # Train a Logistic Regression model\n",
    "    clf = GaussianNB()\n",
    "    clf.fit(X_train1, y_train1)\n",
    "    training_accuracy.append(clf.score(X_train1, y_train1))\n",
    "    \n",
    "    # Predict on the test set\n",
    "    y_pred = clf.predict(X_test1)\n",
    "    \n",
    "    # Calculate accuracy using X_test and y_test, and append to the accuracy list\n",
    "    accuracy = accuracy_score( y_test1,y_pred)\n",
    "    accuracy_lr.append(accuracy)\n",
    "\n",
    "# Create plot for Logistic Regression\n",
    "plt.plot(training_data_sizes_lr, training_accuracy , marker='o')  # plot data points with markers\n",
    "\n",
    "plt.plot(training_data_sizes_lr, accuracy_lr, marker='o')  # plot data points with markers\n",
    "plt.xlabel('Training Data Size')\n",
    "plt.ylabel('Accuracy')\n",
    "plt.title('Accuracy vs Training Data Size for Naive Bayes')\n",
    "plt.grid(True)\n",
    "plt.show()\n"
   ]
  },
  {
   "cell_type": "markdown",
   "id": "bcaf9a44",
   "metadata": {},
   "source": [
    "### 4.3.2 Confusion Matrix"
   ]
  },
  {
   "cell_type": "code",
   "execution_count": 71,
   "id": "b2359e53",
   "metadata": {
    "scrolled": true
   },
   "outputs": [
    {
     "data": {
      "text/plain": [
       "<AxesSubplot:title={'center':'NaiveBayes Confusion Matrix'}>"
      ]
     },
     "execution_count": 71,
     "metadata": {},
     "output_type": "execute_result"
    },
    {
     "data": {
      "image/png": "[encoded data removed]",
      "text/plain": [
       "<Figure size 432x288 with 1 Axes>"
      ]
     },
     "metadata": {},
     "output_type": "display_data"
    }
   ],
   "source": [
    "from sklearn.metrics import confusion_matrix\n",
    "cm_NB_count = confusion_matrix(Y_test,y_NB_pred)\n",
    "plt.subplot(2,3,3)\n",
    "plt.title(\"NaiveBayes Confusion Matrix\")\n",
    "sns.heatmap(cm_NB_count,annot=True,cmap=\"Blues\",fmt=\"d\",cbar=False, annot_kws={\"size\": 15})"
   ]
  },
  {
   "cell_type": "markdown",
   "id": "70e3041e",
   "metadata": {},
   "source": [
    "### 4.3.3 Calculating Metrics"
   ]
  },
  {
   "cell_type": "code",
   "execution_count": 72,
   "id": "f2c2c864",
   "metadata": {
    "scrolled": true
   },
   "outputs": [
    {
     "name": "stdout",
     "output_type": "stream",
     "text": [
      "TESTING ACCURACY   : 0.8629166666666667\n",
      "TESTING PRECISION  : 0.7984274481772695\n",
      "TESTING RECALL     : 0.9596219931271478\n",
      "TESTING F1 SCORE   : 0.8716348029652752\n"
     ]
    }
   ],
   "source": [
    "tp=cm_NB_count[0][0]\n",
    "tn=cm_NB_count[1][1]\n",
    "fp=cm_NB_count[1][0]\n",
    "fn=cm_NB_count[0][1]\n",
    "accuracy=(tp+tn)/(tp+tn+fp+fn)\n",
    "precision=tp/(tp+fp)\n",
    "recall=tp/(tp+fn)\n",
    "f1_score=(2*precision*recall)/(precision+recall)\n",
    "print(\"TESTING ACCURACY   :\",accuracy)\n",
    "print(\"TESTING PRECISION  :\",precision)\n",
    "print(\"TESTING RECALL     :\",recall)\n",
    "print(\"TESTING F1 SCORE   :\",f1_score)"
   ]
  },
  {
   "cell_type": "code",
   "execution_count": 73,
   "id": "11472839",
   "metadata": {
    "scrolled": true
   },
   "outputs": [
    {
     "name": "stdout",
     "output_type": "stream",
     "text": [
      "NaiveBayes  : Accuracy on training Data: 0.995625\n",
      "NaiveBayes  : Accuracy on test Data: 0.8629166666666667\n",
      "\n",
      "NaiveBayes  : precision on training Data: 1.0\n",
      "NaiveBayes  : precision on test Data: 0.9530469530469531\n",
      "\n",
      "NaiveBayes  : Recall on training Data: 0.9911838790931989\n",
      "NaiveBayes  : Recall on test Data: 0.7718446601941747\n",
      "\n",
      "NaiveBayes  : f1_score on training Data: 0.995572422517394\n",
      "NaiveBayes  : f1_score on test Data: 0.8529280286097453\n"
     ]
    }
   ],
   "source": [
    "print(\"NaiveBayes  : Accuracy on training Data: {}\".format(metrics.accuracy_score(Y_train,y1_NB_pred)))\n",
    "print(\"NaiveBayes  : Accuracy on test Data: {:}\".format(metrics.accuracy_score(Y_test,y_NB_pred)))\n",
    "print()\n",
    "print(\"NaiveBayes  : precision on training Data: {}\".format(metrics.precision_score(Y_train,y1_NB_pred)))\n",
    "print(\"NaiveBayes  : precision on test Data: {}\".format(metrics.precision_score(Y_test,y_NB_pred)))\n",
    "print()\n",
    "print(\"NaiveBayes  : Recall on training Data: {}\".format(metrics.recall_score(Y_train,y1_NB_pred)))\n",
    "print(\"NaiveBayes  : Recall on test Data: {}\".format(metrics.recall_score(Y_test,y_NB_pred)))\n",
    "print()\n",
    "print(\"NaiveBayes  : f1_score on training Data: {}\".format(metrics.f1_score(Y_train,y1_NB_pred)))\n",
    "print(\"NaiveBayes  : f1_score on test Data: {}\".format(metrics.f1_score(Y_test,y_NB_pred)))"
   ]
  },
  {
   "cell_type": "code",
   "execution_count": 74,
   "id": "81a5528f",
   "metadata": {},
   "outputs": [
    {
     "data": {
      "image/png": "[encoded data removed]",
      "text/plain": [
       "<Figure size 432x288 with 1 Axes>"
      ]
     },
     "metadata": {},
     "output_type": "display_data"
    }
   ],
   "source": [
    "Yresult=[metrics.accuracy_score(Y_train,y1_NB_pred),metrics.precision_score(Y_train,y1_NB_pred),\n",
    "         metrics.recall_score(Y_train,y1_NB_pred),\n",
    "         metrics.f1_score(Y_train,y1_NB_pred),]\n",
    "zresult=[metrics.accuracy_score(Y_test,y_NB_pred),metrics.precision_score(Y_test,y_NB_pred),\n",
    "         metrics.recall_score(Y_test,y_NB_pred),\n",
    "         metrics.f1_score(Y_test,y_NB_pred),]\n",
    "a=[\"Accuracy\",\"Precision\",\"Recall\",\"F1 score\"]\n",
    "X_axis=np.arange(len(a))\n",
    "plt.bar(X_axis -0.2,Yresult,0.4,label=\"Training\",color=\"yellow\",edgecolor=\"black\")\n",
    "plt.bar(X_axis +0.2,zresult,0.4,label=\"Testing\",color=\"cyan\",edgecolor=\"black\")\n",
    "plt.xticks(X_axis,a)\n",
    "plt.yticks(np.arange(0,1.5,0.1))\n",
    "plt.xlabel(\"Metrics\")\n",
    "plt.ylabel(\"Percentage\")\n",
    "plt.title(\"BAR GRAPH OF Metrics\")\n",
    "plt.legend()\n",
    "plt.ylim(0,1.3)\n",
    "plt.show()"
   ]
  },
  {
   "cell_type": "markdown",
   "id": "149c8d2f",
   "metadata": {},
   "source": [
    "### 4.4  K-Nearest Neighbours"
   ]
  },
  {
   "cell_type": "markdown",
   "id": "90ff7a3b",
   "metadata": {},
   "source": [
    "### 4.4.1 Model Building"
   ]
  },
  {
   "cell_type": "code",
   "execution_count": 75,
   "id": "94a2a093",
   "metadata": {},
   "outputs": [],
   "source": [
    "from sklearn.neighbors import KNeighborsClassifier"
   ]
  },
  {
   "cell_type": "code",
   "execution_count": 76,
   "id": "e3153d19",
   "metadata": {},
   "outputs": [
    {
     "data": {
      "text/plain": [
       "0.8798958333333333"
      ]
     },
     "execution_count": 76,
     "metadata": {},
     "output_type": "execute_result"
    }
   ],
   "source": [
    "KNN=KNeighborsClassifier(n_neighbors=5)\n",
    "KNN.fit(X_train,Y_train)\n",
    "KNN.score(X_train,Y_train)"
   ]
  },
  {
   "cell_type": "code",
   "execution_count": 77,
   "id": "eff65950",
   "metadata": {
    "scrolled": false
   },
   "outputs": [
    {
     "name": "stdout",
     "output_type": "stream",
     "text": [
      "KNN-TEST SCORE: 0.8354166666666667\n"
     ]
    }
   ],
   "source": [
    "print(\"KNN-TEST SCORE:\",KNN.score(X_test,Y_test))"
   ]
  },
  {
   "cell_type": "code",
   "execution_count": 78,
   "id": "2557cfe0",
   "metadata": {},
   "outputs": [],
   "source": [
    "y1_KNN_pred=KNN.predict(X_train)\n",
    "y_KNN_pred=KNN.predict(X_test)"
   ]
  },
  {
   "cell_type": "code",
   "execution_count": 79,
   "id": "1796c1ff",
   "metadata": {
    "scrolled": true
   },
   "outputs": [
    {
     "data": {
      "text/plain": [
       "'\\ntraining_accuracy = []\\ntest_accuracy = []\\n# try max_depth from 1 to 20\\ndepth = range(1,20)\\nfor n in depth:\\n    knn = KNeighborsClassifier(n_neighbors=n)\\n\\n    knn.fit(X_train, Y_train)\\n    # record training set accuracy\\n    training_accuracy.append(knn.score(X_train, Y_train))\\n    # record generalization accuracy\\n    test_accuracy.append(knn.score(X_test, Y_test))\\n    \\n\\n#plotting the training & testing accuracy for n_estimators from 1 to 20\\nplt.plot(depth, training_accuracy, label=\"training accuracy\",color=\"green\")\\nplt.plot(depth, test_accuracy, label=\"test accuracy\",color=\"red\")\\nplt.ylabel(\"Accuracy\")  \\nplt.xlabel(\"n_neighbors\")\\nplt.legend();\\n'"
      ]
     },
     "execution_count": 79,
     "metadata": {},
     "output_type": "execute_result"
    }
   ],
   "source": [
    "\"\"\"\n",
    "training_accuracy = []\n",
    "test_accuracy = []\n",
    "# try max_depth from 1 to 20\n",
    "depth = range(1,20)\n",
    "for n in depth:\n",
    "    knn = KNeighborsClassifier(n_neighbors=n)\n",
    "\n",
    "    knn.fit(X_train, Y_train)\n",
    "    # record training set accuracy\n",
    "    training_accuracy.append(knn.score(X_train, Y_train))\n",
    "    # record generalization accuracy\n",
    "    test_accuracy.append(knn.score(X_test, Y_test))\n",
    "    \n",
    "\n",
    "#plotting the training & testing accuracy for n_estimators from 1 to 20\n",
    "plt.plot(depth, training_accuracy, label=\"training accuracy\",color=\"green\")\n",
    "plt.plot(depth, test_accuracy, label=\"test accuracy\",color=\"red\")\n",
    "plt.ylabel(\"Accuracy\")  \n",
    "plt.xlabel(\"n_neighbors\")\n",
    "plt.legend();\n",
    "\"\"\""
   ]
  },
  {
   "cell_type": "code",
   "execution_count": 80,
   "id": "514aa8e7",
   "metadata": {},
   "outputs": [
    {
     "data": {
      "image/png": "[encoded data removed]",
      "text/plain": [
       "<Figure size 432x288 with 1 Axes>"
      ]
     },
     "metadata": {},
     "output_type": "display_data"
    }
   ],
   "source": [
    "# Define the range of training data sizes to test\n",
    "training_data_sizes_lr = [100,1000, 2000, 5000,10000]\n",
    "training_accuracy = []\n",
    "\n",
    "# Initialize a list to store the calculated accuracies\n",
    "accuracy_lr = []\n",
    "\n",
    "# Loop through the training data sizes\n",
    "for size in training_data_sizes_lr:\n",
    "    # Split the data into training and test sets\n",
    "    X_train1, X_test1, y_train1, y_test1 = train_test_split(X, Y, train_size=size, random_state=42)\n",
    "    \n",
    "    # Train a Logistic Regression model\n",
    "    clf = KNeighborsClassifier(n_neighbors=5)\n",
    "    clf.fit(X_train1, y_train1)\n",
    "    training_accuracy.append(clf.score(X_train1, y_train1))\n",
    "    \n",
    "    # Predict on the test set\n",
    "    y_pred = clf.predict(X_test1)\n",
    "    \n",
    "    # Calculate accuracy using X_test and y_test, and append to the accuracy list\n",
    "    accuracy = accuracy_score( y_test1,y_pred)\n",
    "    accuracy_lr.append(accuracy)\n",
    "\n",
    "# Create plot for Logistic Regression\n",
    "plt.plot(training_data_sizes_lr, training_accuracy , marker='o')  # plot data points with markers\n",
    "\n",
    "plt.plot(training_data_sizes_lr, accuracy_lr, marker='o')  # plot data points with markers\n",
    "plt.xlabel('Training Data Size')\n",
    "plt.ylabel('Accuracy')\n",
    "plt.title('Accuracy vs Training Data Size for  K NEAREST NEIGHBOURS')\n",
    "plt.grid(True)\n",
    "plt.show()\n"
   ]
  },
  {
   "cell_type": "markdown",
   "id": "7f9815a5",
   "metadata": {},
   "source": [
    "### 4.4.2 Confusion Matrix\n"
   ]
  },
  {
   "cell_type": "code",
   "execution_count": 81,
   "id": "f09ceee6",
   "metadata": {},
   "outputs": [
    {
     "data": {
      "text/plain": [
       "<AxesSubplot:title={'center':'K-NearestNeighbours Confusion Matrix'}>"
      ]
     },
     "execution_count": 81,
     "metadata": {},
     "output_type": "execute_result"
    },
    {
     "data": {
      "image/png": "[encoded data removed]",
      "text/plain": [
       "<Figure size 432x288 with 1 Axes>"
      ]
     },
     "metadata": {},
     "output_type": "display_data"
    }
   ],
   "source": [
    "from sklearn.metrics import confusion_matrix\n",
    "cm_KNN_count = confusion_matrix(Y_test,y_KNN_pred)\n",
    "plt.subplot(2,3,3)\n",
    "plt.title(\"K-NearestNeighbours Confusion Matrix\")\n",
    "sns.heatmap(cm_KNN_count,annot=True,cmap=\"Blues\",fmt=\"d\",cbar=False, annot_kws={\"size\": 15})"
   ]
  },
  {
   "cell_type": "markdown",
   "id": "7a6b697e",
   "metadata": {},
   "source": [
    "### 4.4.3 Calculating Metrics"
   ]
  },
  {
   "cell_type": "code",
   "execution_count": 82,
   "id": "870a02e3",
   "metadata": {},
   "outputs": [
    {
     "name": "stdout",
     "output_type": "stream",
     "text": [
      "TESTING ACCURACY   : 0.8354166666666667\n",
      "TESTING PRECISION  : 0.7833456153279292\n",
      "TESTING RECALL     : 0.9132302405498282\n",
      "TESTING F1 SCORE   : 0.843316144387148\n"
     ]
    }
   ],
   "source": [
    "tp=cm_KNN_count[0][0]\n",
    "tn=cm_KNN_count[1][1]\n",
    "fp=cm_KNN_count[1][0]\n",
    "fn=cm_KNN_count[0][1]\n",
    "accuracy=(tp+tn)/(tp+tn+fp+fn)\n",
    "precision=tp/(tp+fp)\n",
    "recall=tp/(tp+fn)\n",
    "f1_score=(2*precision*recall)/(precision+recall)\n",
    "print(\"TESTING ACCURACY   :\",accuracy)\n",
    "print(\"TESTING PRECISION  :\",precision)\n",
    "print(\"TESTING RECALL     :\",recall)\n",
    "print(\"TESTING F1 SCORE   :\",f1_score)"
   ]
  },
  {
   "cell_type": "code",
   "execution_count": 83,
   "id": "ebf74456",
   "metadata": {
    "scrolled": false
   },
   "outputs": [
    {
     "name": "stdout",
     "output_type": "stream",
     "text": [
      "K-NearestNeighbours  : Accuracy on training Data: 0.8798958333333333\n",
      "K-NearestNeighbours  : Accuracy on test Data: 0.8354166666666667\n",
      "\n",
      "K-NearestNeighbours  : precision on training Data: 0.927539663746152\n",
      "K-NearestNeighbours  : precision on test Data: 0.9031639501438159\n",
      "\n",
      "K-NearestNeighbours  : Recall on training Data: 0.822208228379513\n",
      "K-NearestNeighbours  : Recall on test Data: 0.7621359223300971\n",
      "\n",
      "K-NearestNeighbours  : f1_score on training Data: 0.8717035718259709\n",
      "K-NearestNeighbours  : f1_score on test Data: 0.8266783677051338\n"
     ]
    }
   ],
   "source": [
    "print(\"K-NearestNeighbours  : Accuracy on training Data: {}\".format(metrics.accuracy_score(Y_train,y1_KNN_pred)))\n",
    "print(\"K-NearestNeighbours  : Accuracy on test Data: {:}\".format(metrics.accuracy_score(Y_test,y_KNN_pred)))\n",
    "print()\n",
    "print(\"K-NearestNeighbours  : precision on training Data: {}\".format(metrics.precision_score(Y_train,y1_KNN_pred)))\n",
    "print(\"K-NearestNeighbours  : precision on test Data: {}\".format(metrics.precision_score(Y_test,y_KNN_pred)))\n",
    "print()\n",
    "print(\"K-NearestNeighbours  : Recall on training Data: {}\".format(metrics.recall_score(Y_train,y1_KNN_pred)))\n",
    "print(\"K-NearestNeighbours  : Recall on test Data: {}\".format(metrics.recall_score(Y_test,y_KNN_pred)))\n",
    "print()\n",
    "print(\"K-NearestNeighbours  : f1_score on training Data: {}\".format(metrics.f1_score(Y_train,y1_KNN_pred)))\n",
    "print(\"K-NearestNeighbours  : f1_score on test Data: {}\".format(metrics.f1_score(Y_test,y_KNN_pred)))"
   ]
  },
  {
   "cell_type": "code",
   "execution_count": 84,
   "id": "d766abd9",
   "metadata": {},
   "outputs": [
    {
     "data": {
      "image/png": "[encoded data removed]",
      "text/plain": [
       "<Figure size 432x288 with 1 Axes>"
      ]
     },
     "metadata": {},
     "output_type": "display_data"
    }
   ],
   "source": [
    "Yresult=[metrics.accuracy_score(Y_train,y1_KNN_pred),metrics.precision_score(Y_train,y1_KNN_pred),\n",
    "         metrics.recall_score(Y_train,y1_KNN_pred),\n",
    "         metrics.f1_score(Y_train,y1_KNN_pred),]\n",
    "zresult=[metrics.accuracy_score(Y_test,y_KNN_pred),metrics.precision_score(Y_test,y_KNN_pred),\n",
    "         metrics.recall_score(Y_test,y_KNN_pred),\n",
    "         metrics.f1_score(Y_test,y_KNN_pred),]\n",
    "a=[\"Accuracy\",\"Precision\",\"Recall\",\"F1 score\"]\n",
    "X_axis=np.arange(len(a))\n",
    "plt.bar(X_axis -0.2,Yresult,0.4,label=\"Training\",color=\"yellow\",edgecolor=\"black\")\n",
    "plt.bar(X_axis +0.2,zresult,0.4,label=\"Testing\",color=\"cyan\",edgecolor=\"black\")\n",
    "plt.xticks(X_axis,a)\n",
    "plt.yticks(np.arange(0,1.5,0.1))\n",
    "plt.xlabel(\"Metrics\")\n",
    "plt.ylabel(\"Percentage\")\n",
    "plt.title(\"BAR GRAPH OF Metrics\")\n",
    "plt.legend()\n",
    "plt.ylim(0,1.3)\n",
    "plt.show()"
   ]
  },
  {
   "cell_type": "markdown",
   "id": "cbcda043",
   "metadata": {},
   "source": [
    "# 5.Comparing Models"
   ]
  },
  {
   "cell_type": "markdown",
   "id": "1eb7393c",
   "metadata": {},
   "source": [
    "## 5.1 TABULAR REPRESENTATION"
   ]
  },
  {
   "cell_type": "code",
   "execution_count": 85,
   "id": "94549837",
   "metadata": {},
   "outputs": [
    {
     "name": "stdout",
     "output_type": "stream",
     "text": [
      "[0.917, 0.919, 0.863, 0.835]\n"
     ]
    }
   ],
   "source": [
    "ML_Model = []\n",
    "accuracy = []\n",
    "f1_score = []\n",
    "recall = []\n",
    "precision = []\n",
    "\n",
    "#function to call for storing the results\n",
    "def storeResults(model, a,b,c,d):\n",
    "  ML_Model.append(model)\n",
    "  accuracy.append(round(a, 3))\n",
    "  f1_score.append(round(b, 3))\n",
    "  recall.append(round(c, 3))\n",
    "  precision.append(round(d, 3))\n",
    "\n",
    "storeResults('Random Forest ',metrics.accuracy_score(Y_test,y_RF_pred),metrics.f1_score(Y_test,y_RF_pred),\n",
    "             metrics.recall_score(Y_test,y_RF_pred),metrics.precision_score(Y_test,y_RF_pred))\n",
    "storeResults('Logistic Regression ',metrics.accuracy_score(Y_test,y_LR_pred),metrics.f1_score(Y_test,y_LR_pred),\n",
    "             metrics.recall_score(Y_test,y_LR_pred),metrics.precision_score(Y_test,y_LR_pred))\n",
    "storeResults('Naive Bayes ',metrics.accuracy_score(Y_test,y_NB_pred),metrics.f1_score(Y_test,y_NB_pred),\n",
    "             metrics.recall_score(Y_test,y_NB_pred),metrics.precision_score(Y_test,y_NB_pred))\n",
    "\"\"\"\"\n",
    "storeResults('Gradient boost Classifier ',metrics.accuracy_score(Y_test,y_XgB_pred),metrics.f1_score(Y_test,y_XgB_pred),\n",
    "             metrics.recall_score(Y_test,y_XgB_pred),metrics.precision_score(Y_test,y_XgB_pred))\n",
    "\"\"\"\n",
    "storeResults('K-Nearest Neighbours ',metrics.accuracy_score(Y_test,y_KNN_pred),metrics.f1_score(Y_test,y_KNN_pred),\n",
    "             metrics.recall_score(Y_test,y_KNN_pred),metrics.precision_score(Y_test,y_KNN_pred))\n",
    "\n",
    "print(accuracy)"
   ]
  },
  {
   "cell_type": "code",
   "execution_count": 86,
   "id": "f64b550c",
   "metadata": {},
   "outputs": [],
   "source": [
    "result = pd.DataFrame({ 'ML Model' : ML_Model,\n",
    "                        'Accuracy' : accuracy,\n",
    "                        'Precision': precision,\n",
    "                        'Recall'   : recall,\n",
    "                        'f1_score' : f1_score,\n",
    "                         })"
   ]
  },
  {
   "cell_type": "code",
   "execution_count": 87,
   "id": "e6e04355",
   "metadata": {},
   "outputs": [
    {
     "data": {
      "text/html": [
       "<div>\n",
       "<style scoped>\n",
       "    .dataframe tbody tr th:only-of-type {\n",
       "        vertical-align: middle;\n",
       "    }\n",
       "\n",
       "    .dataframe tbody tr th {\n",
       "        vertical-align: top;\n",
       "    }\n",
       "\n",
       "    .dataframe thead th {\n",
       "        text-align: right;\n",
       "    }\n",
       "</style>\n",
       "<table border=\"1\" class=\"dataframe\">\n",
       "  <thead>\n",
       "    <tr style=\"text-align: right;\">\n",
       "      <th></th>\n",
       "      <th>ML Model</th>\n",
       "      <th>Accuracy</th>\n",
       "      <th>Precision</th>\n",
       "      <th>Recall</th>\n",
       "      <th>f1_score</th>\n",
       "    </tr>\n",
       "  </thead>\n",
       "  <tbody>\n",
       "    <tr>\n",
       "      <th>0</th>\n",
       "      <td>Random Forest</td>\n",
       "      <td>0.917</td>\n",
       "      <td>0.941</td>\n",
       "      <td>0.895</td>\n",
       "      <td>0.917</td>\n",
       "    </tr>\n",
       "    <tr>\n",
       "      <th>1</th>\n",
       "      <td>Logistic Regression</td>\n",
       "      <td>0.919</td>\n",
       "      <td>0.951</td>\n",
       "      <td>0.888</td>\n",
       "      <td>0.918</td>\n",
       "    </tr>\n",
       "    <tr>\n",
       "      <th>2</th>\n",
       "      <td>Naive Bayes</td>\n",
       "      <td>0.863</td>\n",
       "      <td>0.953</td>\n",
       "      <td>0.772</td>\n",
       "      <td>0.853</td>\n",
       "    </tr>\n",
       "    <tr>\n",
       "      <th>3</th>\n",
       "      <td>K-Nearest Neighbours</td>\n",
       "      <td>0.835</td>\n",
       "      <td>0.903</td>\n",
       "      <td>0.762</td>\n",
       "      <td>0.827</td>\n",
       "    </tr>\n",
       "  </tbody>\n",
       "</table>\n",
       "</div>"
      ],
      "text/plain": [
       "                ML Model  Accuracy  Precision  Recall  f1_score\n",
       "0         Random Forest      0.917      0.941   0.895     0.917\n",
       "1   Logistic Regression      0.919      0.951   0.888     0.918\n",
       "2           Naive Bayes      0.863      0.953   0.772     0.853\n",
       "3  K-Nearest Neighbours      0.835      0.903   0.762     0.827"
      ]
     },
     "execution_count": 87,
     "metadata": {},
     "output_type": "execute_result"
    }
   ],
   "source": [
    "result\n"
   ]
  },
  {
   "cell_type": "code",
   "execution_count": 88,
   "id": "300b290c",
   "metadata": {},
   "outputs": [],
   "source": [
    "#Sorting the datafram on accuracy\n",
    "sorted_result=result.sort_values(by=['Accuracy', 'f1_score'],ascending=False).reset_index(drop=True)"
   ]
  },
  {
   "cell_type": "code",
   "execution_count": 89,
   "id": "c885b436",
   "metadata": {
    "scrolled": false
   },
   "outputs": [
    {
     "data": {
      "text/html": [
       "<div>\n",
       "<style scoped>\n",
       "    .dataframe tbody tr th:only-of-type {\n",
       "        vertical-align: middle;\n",
       "    }\n",
       "\n",
       "    .dataframe tbody tr th {\n",
       "        vertical-align: top;\n",
       "    }\n",
       "\n",
       "    .dataframe thead th {\n",
       "        text-align: right;\n",
       "    }\n",
       "</style>\n",
       "<table border=\"1\" class=\"dataframe\">\n",
       "  <thead>\n",
       "    <tr style=\"text-align: right;\">\n",
       "      <th></th>\n",
       "      <th>ML Model</th>\n",
       "      <th>Accuracy</th>\n",
       "      <th>Precision</th>\n",
       "      <th>Recall</th>\n",
       "      <th>f1_score</th>\n",
       "    </tr>\n",
       "  </thead>\n",
       "  <tbody>\n",
       "    <tr>\n",
       "      <th>0</th>\n",
       "      <td>Logistic Regression</td>\n",
       "      <td>0.919</td>\n",
       "      <td>0.951</td>\n",
       "      <td>0.888</td>\n",
       "      <td>0.918</td>\n",
       "    </tr>\n",
       "    <tr>\n",
       "      <th>1</th>\n",
       "      <td>Random Forest</td>\n",
       "      <td>0.917</td>\n",
       "      <td>0.941</td>\n",
       "      <td>0.895</td>\n",
       "      <td>0.917</td>\n",
       "    </tr>\n",
       "    <tr>\n",
       "      <th>2</th>\n",
       "      <td>Naive Bayes</td>\n",
       "      <td>0.863</td>\n",
       "      <td>0.953</td>\n",
       "      <td>0.772</td>\n",
       "      <td>0.853</td>\n",
       "    </tr>\n",
       "    <tr>\n",
       "      <th>3</th>\n",
       "      <td>K-Nearest Neighbours</td>\n",
       "      <td>0.835</td>\n",
       "      <td>0.903</td>\n",
       "      <td>0.762</td>\n",
       "      <td>0.827</td>\n",
       "    </tr>\n",
       "  </tbody>\n",
       "</table>\n",
       "</div>"
      ],
      "text/plain": [
       "                ML Model  Accuracy  Precision  Recall  f1_score\n",
       "0   Logistic Regression      0.919      0.951   0.888     0.918\n",
       "1         Random Forest      0.917      0.941   0.895     0.917\n",
       "2           Naive Bayes      0.863      0.953   0.772     0.853\n",
       "3  K-Nearest Neighbours      0.835      0.903   0.762     0.827"
      ]
     },
     "execution_count": 89,
     "metadata": {},
     "output_type": "execute_result"
    }
   ],
   "source": [
    "sorted_result"
   ]
  },
  {
   "cell_type": "markdown",
   "id": "5a38f256",
   "metadata": {},
   "source": [
    "##  5.2 GRAPHICAL REPRESENTATION"
   ]
  },
  {
   "cell_type": "code",
   "execution_count": 90,
   "id": "0847b663",
   "metadata": {},
   "outputs": [
    {
     "data": {
      "image/png": "[encoded data removed]",
      "text/plain": [
       "<Figure size 432x288 with 1 Axes>"
      ]
     },
     "metadata": {},
     "output_type": "display_data"
    }
   ],
   "source": [
    "Yresult=[metrics.accuracy_score(Y_train,y1_RF_pred),metrics.accuracy_score(Y_train,y1_LR_pred),\n",
    "         metrics.accuracy_score(Y_train,y1_NB_pred),\n",
    "         metrics.accuracy_score(Y_train,y1_KNN_pred),]\n",
    "zresult=accuracy\n",
    "a=[\"RF\",\"LR\",\"NB\",\"KNN\"]\n",
    "X_axis=np.arange(len(a))\n",
    "plt.bar(X_axis -0.2,Yresult,0.4,label=\"Training\")\n",
    "plt.bar(X_axis +0.2,zresult,0.4,label=\"Testing\")\n",
    "plt.xticks(X_axis,a)\n",
    "plt.yticks(np.arange(0,1.5,0.1))\n",
    "plt.xlabel(\"Accuracies\")\n",
    "plt.ylabel(\"Percentage\")\n",
    "plt.title(\"BAR GRAPH OF ACCURACIES\")\n",
    "plt.legend()\n",
    "plt.ylim(0,1.3)\n",
    "plt.show()"
   ]
  },
  {
   "cell_type": "code",
   "execution_count": 91,
   "id": "f85e4ea0",
   "metadata": {},
   "outputs": [],
   "source": [
    "from sklearn.pipeline import make_pipeline "
   ]
  },
  {
   "cell_type": "code",
   "execution_count": 92,
   "id": "d151e12f",
   "metadata": {},
   "outputs": [],
   "source": [
    "pipeline_ls = make_pipeline(CountVectorizer(tokenizer = RegexpTokenizer(r'[A-Za-z]+').tokenize,stop_words='english'),LR)"
   ]
  },
  {
   "cell_type": "code",
   "execution_count": 93,
   "id": "28a42ab2",
   "metadata": {},
   "outputs": [],
   "source": [
    "trainX, testX, trainY, testY = train_test_split(data.URL, data.Label)"
   ]
  },
  {
   "cell_type": "code",
   "execution_count": 94,
   "id": "1c46c782",
   "metadata": {},
   "outputs": [
    {
     "data": {
      "text/plain": [
       "Pipeline(steps=[('countvectorizer',\n",
       "                 CountVectorizer(stop_words='english',\n",
       "                                 tokenizer=<bound method RegexpTokenizer.tokenize of RegexpTokenizer(pattern='[A-Za-z]+', gaps=False, discard_empty=True, flags=re.UNICODE|re.MULTILINE|re.DOTALL)>)),\n",
       "                ('logisticregression', LogisticRegression())])"
      ]
     },
     "execution_count": 94,
     "metadata": {},
     "output_type": "execute_result"
    }
   ],
   "source": [
    "pipeline_ls.fit(trainX,trainY)"
   ]
  },
  {
   "cell_type": "code",
   "execution_count": 95,
   "id": "19d73979",
   "metadata": {},
   "outputs": [
    {
     "data": {
      "text/plain": [
       "0.9183333333333333"
      ]
     },
     "execution_count": 95,
     "metadata": {},
     "output_type": "execute_result"
    }
   ],
   "source": [
    "pipeline_ls.score(testX,testY) "
   ]
  },
  {
   "cell_type": "code",
   "execution_count": 96,
   "id": "932ec4c7",
   "metadata": {},
   "outputs": [],
   "source": [
    "import pickle"
   ]
  },
  {
   "cell_type": "code",
   "execution_count": 98,
   "id": "bd609672",
   "metadata": {},
   "outputs": [],
   "source": [
    "pickle.dump(pipeline_ls, open(r'C:\\Users\\91950\\major project\\pickel\\phishing.pkl', 'wb'))\n"
   ]
  },
  {
   "cell_type": "code",
   "execution_count": null,
   "id": "bb70a7b3",
   "metadata": {},
   "outputs": [],
   "source": []
  }
 ],
 "metadata": {
  "kernelspec": {
   "display_name": "Python 3 (ipykernel)",
   "language": "python",
   "name": "python3"
  },
  "language_info": {
   "codemirror_mode": {
    "name": "ipython",
    "version": 3
   },
   "file_extension": ".py",
   "mimetype": "text/x-python",
   "name": "python",
   "nbconvert_exporter": "python",
   "pygments_lexer": "ipython3",
   "version": "3.9.7"
  }
 },
 "nbformat": 4,
 "nbformat_minor": 5
}
